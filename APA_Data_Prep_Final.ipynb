{
  "cells": [
    {
      "cell_type": "markdown",
      "id": "f63c8e08",
      "metadata": {
        "id": "f63c8e08"
      },
      "source": [
        "# **APA - Data Preparation **\n",
        "## **DATA 3300**"
      ]
    },
    {
      "cell_type": "markdown",
      "id": "03daa935",
      "metadata": {
        "id": "03daa935"
      },
      "source": [
        "## **Name(s): Oliver Heady**"
      ]
    },
    {
      "cell_type": "markdown",
      "id": "7342cd08",
      "metadata": {
        "id": "7342cd08"
      },
      "source": [
        "### **Read and follow these assignment instructions carefully! Ordinarily, we’d jump into cleansing data as needed and we’d each do it slightly differently. This is difficult to grade, so please go in the order of this document and follow these instructions.**\n",
        "\n",
        "**For this assignment students should submit one notebook and one clean, sorted Excel file. See the assignment background for attribute descriptions and the assignment requirements link on the Canvas assignment page.**"
      ]
    },
    {
      "cell_type": "markdown",
      "id": "a045b050",
      "metadata": {
        "id": "a045b050"
      },
      "source": [
        "## **Q1** \n",
        "\n",
        "**What does the term “data quality” refer to and why is it important within the context of using data to solve business problems?**"
      ]
    },
    {
      "cell_type": "markdown",
      "id": "b8b417e6",
      "metadata": {
        "id": "b8b417e6"
      },
      "source": [
        "### *Data Quality refers to the data's usefulness; namely its consistency, completeness, accuracy, timeliness, and uniqueness. If the data isn't properly \"clean\", it could provide the wrong insights or no insights at all.*"
      ]
    },
    {
      "cell_type": "markdown",
      "id": "7f6a356a",
      "metadata": {
        "id": "7f6a356a"
      },
      "source": [
        "##**Q2**\n",
        "\n",
        "**The lecture and textbook discussed five characteristics of data quality: accuracy, completeness, consistency, timeliness, and uniqueness. While “accuracy” in this dataset is hard for us to gauge without further inquiry and“timeliness” kind of depends on what it is the data are to be used for, there are clear examples of problems with each of the other three characteristics.**\n",
        "\n",
        "**For each of the other three (completeness, consistency, uniqueness), identify a specific situation within the hbdata-orig.csvdataset (identify record numbers when applicable). Hint: For uniqueness, look at the VisitSpan attribute.Be sure your answers areclearly labelled and described.**\n",
        "\n",
        "**This can be done viewing the data in Excel or importing it into Python. If using Python, begin by importing your libraries and then read in the .csv file.** "
      ]
    },
    {
      "cell_type": "code",
      "execution_count": 1,
      "id": "c13aad94",
      "metadata": {
        "id": "c13aad94"
      },
      "outputs": [],
      "source": [
        "#importing pandas\n",
        "import pandas as pd\n",
        "#importing numpy\n",
        "import numpy as np\n",
        "\n",
        "from datetime import datetime #need this method to convert a variable to date-time later in the assignment\n",
        "import warnings\n",
        "warnings.filterwarnings(\"ignore\") #this can be removed but will help the code be a little cleaner by ignoring warnings"
      ]
    },
    {
      "cell_type": "code",
      "execution_count": 2,
      "id": "0iWn45HQ2ZPX",
      "metadata": {
        "colab": {
          "base_uri": "https://localhost:8080/"
        },
        "id": "0iWn45HQ2ZPX",
        "outputId": "de2d5a07-742b-456c-97ea-f4435a60bf10"
      },
      "outputs": [
        {
          "name": "stdout",
          "output_type": "stream",
          "text": [
            "Mounted at /content/drive\n"
          ]
        }
      ],
      "source": [
        "from google.colab import drive\n",
        "drive.mount('/content/drive')"
      ]
    },
    {
      "cell_type": "code",
      "execution_count": 4,
      "id": "c5f06718",
      "metadata": {
        "colab": {
          "base_uri": "https://localhost:8080/",
          "height": 204
        },
        "id": "c5f06718",
        "outputId": "6c070ef1-d86c-43f3-b3a1-44c692f40c39"
      },
      "outputs": [
        {
          "data": {
            "text/html": [
              "\n",
              "  <div id=\"df-51fd628a-0857-4135-8dd7-8e5488d7aaab\">\n",
              "    <div class=\"colab-df-container\">\n",
              "      <div>\n",
              "<style scoped>\n",
              "    .dataframe tbody tr th:only-of-type {\n",
              "        vertical-align: middle;\n",
              "    }\n",
              "\n",
              "    .dataframe tbody tr th {\n",
              "        vertical-align: top;\n",
              "    }\n",
              "\n",
              "    .dataframe thead th {\n",
              "        text-align: right;\n",
              "    }\n",
              "</style>\n",
              "<table border=\"1\" class=\"dataframe\">\n",
              "  <thead>\n",
              "    <tr style=\"text-align: right;\">\n",
              "      <th></th>\n",
              "      <th>VisitID</th>\n",
              "      <th>BirdName</th>\n",
              "      <th>BirdType</th>\n",
              "      <th>BirdSize</th>\n",
              "      <th>Gender</th>\n",
              "      <th>VisitDate</th>\n",
              "      <th>VisitSpan</th>\n",
              "      <th>Location</th>\n",
              "      <th>Hoverfeed</th>\n",
              "      <th>Amount</th>\n",
              "      <th>Unnamed: 10</th>\n",
              "    </tr>\n",
              "  </thead>\n",
              "  <tbody>\n",
              "    <tr>\n",
              "      <th>0</th>\n",
              "      <td>2203</td>\n",
              "      <td>Mitz Johnson</td>\n",
              "      <td>Rufous</td>\n",
              "      <td>M</td>\n",
              "      <td>female</td>\n",
              "      <td>7/16/17</td>\n",
              "      <td>07:27:24.05-07:27:52.78</td>\n",
              "      <td>Back Patio</td>\n",
              "      <td>no</td>\n",
              "      <td>17 ml</td>\n",
              "      <td>NaN</td>\n",
              "    </tr>\n",
              "    <tr>\n",
              "      <th>1</th>\n",
              "      <td>2204</td>\n",
              "      <td>Horace Prefect</td>\n",
              "      <td>Calliope</td>\n",
              "      <td>M</td>\n",
              "      <td>male</td>\n",
              "      <td>7/16/17</td>\n",
              "      <td>07:45:07.65-07:45:17.97</td>\n",
              "      <td>NE Corner</td>\n",
              "      <td>yes</td>\n",
              "      <td>6 ml</td>\n",
              "      <td>0.31</td>\n",
              "    </tr>\n",
              "    <tr>\n",
              "      <th>2</th>\n",
              "      <td>2205</td>\n",
              "      <td>Edeltraud McKnight</td>\n",
              "      <td>Rufous</td>\n",
              "      <td>M</td>\n",
              "      <td>female</td>\n",
              "      <td>7/16/17</td>\n",
              "      <td>08:09:52.10-08:10:22.74</td>\n",
              "      <td>Deck 2</td>\n",
              "      <td>no</td>\n",
              "      <td>5 ml</td>\n",
              "      <td>NaN</td>\n",
              "    </tr>\n",
              "    <tr>\n",
              "      <th>3</th>\n",
              "      <td>2206</td>\n",
              "      <td>Herbert McKnight</td>\n",
              "      <td>Rufous</td>\n",
              "      <td>M</td>\n",
              "      <td>male</td>\n",
              "      <td>7/16/17</td>\n",
              "      <td>08:41:54.07-08:42:07.48</td>\n",
              "      <td>Deck 1</td>\n",
              "      <td>yes</td>\n",
              "      <td>2 ml</td>\n",
              "      <td>NaN</td>\n",
              "    </tr>\n",
              "    <tr>\n",
              "      <th>4</th>\n",
              "      <td>2207</td>\n",
              "      <td>Walpurga Schwalbe</td>\n",
              "      <td>Anna's</td>\n",
              "      <td>M</td>\n",
              "      <td>female</td>\n",
              "      <td>7/16/17</td>\n",
              "      <td>09:18:59.33-09:19:13.41</td>\n",
              "      <td>Garage</td>\n",
              "      <td>yes</td>\n",
              "      <td>3 ml</td>\n",
              "      <td>NaN</td>\n",
              "    </tr>\n",
              "  </tbody>\n",
              "</table>\n",
              "</div>\n",
              "      <button class=\"colab-df-convert\" onclick=\"convertToInteractive('df-51fd628a-0857-4135-8dd7-8e5488d7aaab')\"\n",
              "              title=\"Convert this dataframe to an interactive table.\"\n",
              "              style=\"display:none;\">\n",
              "        \n",
              "  <svg xmlns=\"http://www.w3.org/2000/svg\" height=\"24px\"viewBox=\"0 0 24 24\"\n",
              "       width=\"24px\">\n",
              "    <path d=\"M0 0h24v24H0V0z\" fill=\"none\"/>\n",
              "    <path d=\"M18.56 5.44l.94 2.06.94-2.06 2.06-.94-2.06-.94-.94-2.06-.94 2.06-2.06.94zm-11 1L8.5 8.5l.94-2.06 2.06-.94-2.06-.94L8.5 2.5l-.94 2.06-2.06.94zm10 10l.94 2.06.94-2.06 2.06-.94-2.06-.94-.94-2.06-.94 2.06-2.06.94z\"/><path d=\"M17.41 7.96l-1.37-1.37c-.4-.4-.92-.59-1.43-.59-.52 0-1.04.2-1.43.59L10.3 9.45l-7.72 7.72c-.78.78-.78 2.05 0 2.83L4 21.41c.39.39.9.59 1.41.59.51 0 1.02-.2 1.41-.59l7.78-7.78 2.81-2.81c.8-.78.8-2.07 0-2.86zM5.41 20L4 18.59l7.72-7.72 1.47 1.35L5.41 20z\"/>\n",
              "  </svg>\n",
              "      </button>\n",
              "      \n",
              "  <style>\n",
              "    .colab-df-container {\n",
              "      display:flex;\n",
              "      flex-wrap:wrap;\n",
              "      gap: 12px;\n",
              "    }\n",
              "\n",
              "    .colab-df-convert {\n",
              "      background-color: #E8F0FE;\n",
              "      border: none;\n",
              "      border-radius: 50%;\n",
              "      cursor: pointer;\n",
              "      display: none;\n",
              "      fill: #1967D2;\n",
              "      height: 32px;\n",
              "      padding: 0 0 0 0;\n",
              "      width: 32px;\n",
              "    }\n",
              "\n",
              "    .colab-df-convert:hover {\n",
              "      background-color: #E2EBFA;\n",
              "      box-shadow: 0px 1px 2px rgba(60, 64, 67, 0.3), 0px 1px 3px 1px rgba(60, 64, 67, 0.15);\n",
              "      fill: #174EA6;\n",
              "    }\n",
              "\n",
              "    [theme=dark] .colab-df-convert {\n",
              "      background-color: #3B4455;\n",
              "      fill: #D2E3FC;\n",
              "    }\n",
              "\n",
              "    [theme=dark] .colab-df-convert:hover {\n",
              "      background-color: #434B5C;\n",
              "      box-shadow: 0px 1px 3px 1px rgba(0, 0, 0, 0.15);\n",
              "      filter: drop-shadow(0px 1px 2px rgba(0, 0, 0, 0.3));\n",
              "      fill: #FFFFFF;\n",
              "    }\n",
              "  </style>\n",
              "\n",
              "      <script>\n",
              "        const buttonEl =\n",
              "          document.querySelector('#df-51fd628a-0857-4135-8dd7-8e5488d7aaab button.colab-df-convert');\n",
              "        buttonEl.style.display =\n",
              "          google.colab.kernel.accessAllowed ? 'block' : 'none';\n",
              "\n",
              "        async function convertToInteractive(key) {\n",
              "          const element = document.querySelector('#df-51fd628a-0857-4135-8dd7-8e5488d7aaab');\n",
              "          const dataTable =\n",
              "            await google.colab.kernel.invokeFunction('convertToInteractive',\n",
              "                                                     [key], {});\n",
              "          if (!dataTable) return;\n",
              "\n",
              "          const docLinkHtml = 'Like what you see? Visit the ' +\n",
              "            '<a target=\"_blank\" href=https://colab.research.google.com/notebooks/data_table.ipynb>data table notebook</a>'\n",
              "            + ' to learn more about interactive tables.';\n",
              "          element.innerHTML = '';\n",
              "          dataTable['output_type'] = 'display_data';\n",
              "          await google.colab.output.renderOutput(dataTable, element);\n",
              "          const docLink = document.createElement('div');\n",
              "          docLink.innerHTML = docLinkHtml;\n",
              "          element.appendChild(docLink);\n",
              "        }\n",
              "      </script>\n",
              "    </div>\n",
              "  </div>\n",
              "  "
            ],
            "text/plain": [
              "   VisitID            BirdName  BirdType BirdSize  Gender VisitDate  \\\n",
              "0     2203        Mitz Johnson    Rufous        M  female   7/16/17   \n",
              "1     2204    Horace Prefect    Calliope        M    male   7/16/17   \n",
              "2     2205  Edeltraud McKnight    Rufous        M  female   7/16/17   \n",
              "3     2206    Herbert McKnight    Rufous        M    male   7/16/17   \n",
              "4     2207   Walpurga Schwalbe    Anna's        M  female   7/16/17   \n",
              "\n",
              "                 VisitSpan    Location Hoverfeed Amount Unnamed: 10  \n",
              "0  07:27:24.05-07:27:52.78  Back Patio        no  17 ml         NaN  \n",
              "1  07:45:07.65-07:45:17.97   NE Corner       yes   6 ml        0.31  \n",
              "2  08:09:52.10-08:10:22.74      Deck 2        no   5 ml         NaN  \n",
              "3  08:41:54.07-08:42:07.48      Deck 1       yes   2 ml         NaN  \n",
              "4  09:18:59.33-09:19:13.41      Garage       yes   3 ml         NaN  "
            ]
          },
          "execution_count": 4,
          "metadata": {},
          "output_type": "execute_result"
        }
      ],
      "source": [
        "#importing the dataset using pd.read_csv because it's a .csv file, not an excel file\n",
        "df = pd.read_csv(\"/content/drive/MyDrive/DATA 3300/Data Prep/hbdata-orig.csv\")\n",
        "\n",
        "pd.set_option(\"display.max_rows\", None, \"display.max_columns\", None) #View full dataframe\n",
        "df.head()"
      ]
    },
    {
      "cell_type": "markdown",
      "id": "1be578e6",
      "metadata": {
        "id": "1be578e6"
      },
      "source": [
        "Completeness: missing values in record 6, 191, 204. Record 41 has values in teh wrong columns\n",
        "\n",
        "Consistency: oz used in records 33, 36, 39 ect. (instead of mL)\n",
        "\n",
        "Uniqueness: may be duplicate entries?"
      ]
    },
    {
      "cell_type": "markdown",
      "id": "abe4dbab",
      "metadata": {
        "id": "abe4dbab"
      },
      "source": [
        "## **Q3**\n",
        "\n",
        "**Answer the following questions regarding the importance of each of the named data scrubbing steps. (15 points)**\n",
        "\n",
        "### **3A** \n",
        "**What negative outcome would likely occur during data analysis if duplicated visits were not removed (consolidated)?**"
      ]
    },
    {
      "cell_type": "markdown",
      "id": "0cd097ab",
      "metadata": {
        "id": "0cd097ab"
      },
      "source": [
        "The duplicated records would have extra weight in the statistical analysis, rendering the data less accurate."
      ]
    },
    {
      "cell_type": "markdown",
      "id": "81b7e47c",
      "metadata": {
        "id": "81b7e47c"
      },
      "source": [
        "### **3B**\n",
        "\n",
        "**What negative outcome would likely occur during data analysis if Location entries were not standardized?**"
      ]
    },
    {
      "cell_type": "markdown",
      "id": "5fa6b9fe",
      "metadata": {
        "id": "5fa6b9fe"
      },
      "source": [
        "If the location entries weren't standardized, it would lead to extra locations in the table, meaning you wouldn't get an accurate view of what birds are visiting a specific location."
      ]
    },
    {
      "cell_type": "markdown",
      "id": "98971f48",
      "metadata": {
        "id": "98971f48"
      },
      "source": [
        "### **3C**\n",
        "\n",
        "**What negative outcome would likely occur during data analysis if, due to measurement issues, amount eaten values were not consistent?**"
      ]
    },
    {
      "cell_type": "markdown",
      "id": "592a8263",
      "metadata": {
        "id": "592a8263"
      },
      "source": [
        "If the amount eaten values weren't consistent, it would create inaccurate outliers in the data and make it less trustworthy."
      ]
    },
    {
      "cell_type": "markdown",
      "id": "8e04ef6e",
      "metadata": {
        "id": "8e04ef6e"
      },
      "source": [
        "## **Q4**\n",
        "\n",
        "**In scrubbing the data, you should address each of the following. It’s recommended to go through this assignment in the order of steps below.**"
      ]
    },
    {
      "cell_type": "markdown",
      "id": "4709e143",
      "metadata": {
        "id": "4709e143"
      },
      "source": [
        "### 4A\n",
        "\n",
        "In Python trim all columns to ensure that there are no leading or trailing spaces on any of the data values. If you still see two seemingly identical entries, remember that trimming does not trim internal spcaes between two words."
      ]
    },
    {
      "cell_type": "code",
      "execution_count": 6,
      "id": "3cb864bf",
      "metadata": {
        "colab": {
          "base_uri": "https://localhost:8080/",
          "height": 204
        },
        "id": "3cb864bf",
        "outputId": "d09fd1b9-20ea-447d-fefd-f9d4cca76677"
      },
      "outputs": [
        {
          "data": {
            "text/html": [
              "\n",
              "  <div id=\"df-89af40a3-3d74-4915-b172-9ec379434420\">\n",
              "    <div class=\"colab-df-container\">\n",
              "      <div>\n",
              "<style scoped>\n",
              "    .dataframe tbody tr th:only-of-type {\n",
              "        vertical-align: middle;\n",
              "    }\n",
              "\n",
              "    .dataframe tbody tr th {\n",
              "        vertical-align: top;\n",
              "    }\n",
              "\n",
              "    .dataframe thead th {\n",
              "        text-align: right;\n",
              "    }\n",
              "</style>\n",
              "<table border=\"1\" class=\"dataframe\">\n",
              "  <thead>\n",
              "    <tr style=\"text-align: right;\">\n",
              "      <th></th>\n",
              "      <th>VisitID</th>\n",
              "      <th>BirdName</th>\n",
              "      <th>BirdType</th>\n",
              "      <th>BirdSize</th>\n",
              "      <th>Gender</th>\n",
              "      <th>VisitDate</th>\n",
              "      <th>VisitSpan</th>\n",
              "      <th>Location</th>\n",
              "      <th>Hoverfeed</th>\n",
              "      <th>Amount</th>\n",
              "      <th>Unnamed: 10</th>\n",
              "    </tr>\n",
              "  </thead>\n",
              "  <tbody>\n",
              "    <tr>\n",
              "      <th>0</th>\n",
              "      <td>2203</td>\n",
              "      <td>Mitz Johnson</td>\n",
              "      <td>Rufous</td>\n",
              "      <td>M</td>\n",
              "      <td>female</td>\n",
              "      <td>7/16/17</td>\n",
              "      <td>07:27:24.05-07:27:52.78</td>\n",
              "      <td>Back Patio</td>\n",
              "      <td>no</td>\n",
              "      <td>17 ml</td>\n",
              "      <td>NaN</td>\n",
              "    </tr>\n",
              "    <tr>\n",
              "      <th>1</th>\n",
              "      <td>2204</td>\n",
              "      <td>Horace Prefect</td>\n",
              "      <td>Calliope</td>\n",
              "      <td>M</td>\n",
              "      <td>male</td>\n",
              "      <td>7/16/17</td>\n",
              "      <td>07:45:07.65-07:45:17.97</td>\n",
              "      <td>NE Corner</td>\n",
              "      <td>yes</td>\n",
              "      <td>6 ml</td>\n",
              "      <td>0.31</td>\n",
              "    </tr>\n",
              "    <tr>\n",
              "      <th>2</th>\n",
              "      <td>2205</td>\n",
              "      <td>Edeltraud McKnight</td>\n",
              "      <td>Rufous</td>\n",
              "      <td>M</td>\n",
              "      <td>female</td>\n",
              "      <td>7/16/17</td>\n",
              "      <td>08:09:52.10-08:10:22.74</td>\n",
              "      <td>Deck 2</td>\n",
              "      <td>no</td>\n",
              "      <td>5 ml</td>\n",
              "      <td>NaN</td>\n",
              "    </tr>\n",
              "    <tr>\n",
              "      <th>3</th>\n",
              "      <td>2206</td>\n",
              "      <td>Herbert McKnight</td>\n",
              "      <td>Rufous</td>\n",
              "      <td>M</td>\n",
              "      <td>male</td>\n",
              "      <td>7/16/17</td>\n",
              "      <td>08:41:54.07-08:42:07.48</td>\n",
              "      <td>Deck 1</td>\n",
              "      <td>yes</td>\n",
              "      <td>2 ml</td>\n",
              "      <td>NaN</td>\n",
              "    </tr>\n",
              "    <tr>\n",
              "      <th>4</th>\n",
              "      <td>2207</td>\n",
              "      <td>Walpurga Schwalbe</td>\n",
              "      <td>Anna's</td>\n",
              "      <td>M</td>\n",
              "      <td>female</td>\n",
              "      <td>7/16/17</td>\n",
              "      <td>09:18:59.33-09:19:13.41</td>\n",
              "      <td>Garage</td>\n",
              "      <td>yes</td>\n",
              "      <td>3 ml</td>\n",
              "      <td>NaN</td>\n",
              "    </tr>\n",
              "  </tbody>\n",
              "</table>\n",
              "</div>\n",
              "      <button class=\"colab-df-convert\" onclick=\"convertToInteractive('df-89af40a3-3d74-4915-b172-9ec379434420')\"\n",
              "              title=\"Convert this dataframe to an interactive table.\"\n",
              "              style=\"display:none;\">\n",
              "        \n",
              "  <svg xmlns=\"http://www.w3.org/2000/svg\" height=\"24px\"viewBox=\"0 0 24 24\"\n",
              "       width=\"24px\">\n",
              "    <path d=\"M0 0h24v24H0V0z\" fill=\"none\"/>\n",
              "    <path d=\"M18.56 5.44l.94 2.06.94-2.06 2.06-.94-2.06-.94-.94-2.06-.94 2.06-2.06.94zm-11 1L8.5 8.5l.94-2.06 2.06-.94-2.06-.94L8.5 2.5l-.94 2.06-2.06.94zm10 10l.94 2.06.94-2.06 2.06-.94-2.06-.94-.94-2.06-.94 2.06-2.06.94z\"/><path d=\"M17.41 7.96l-1.37-1.37c-.4-.4-.92-.59-1.43-.59-.52 0-1.04.2-1.43.59L10.3 9.45l-7.72 7.72c-.78.78-.78 2.05 0 2.83L4 21.41c.39.39.9.59 1.41.59.51 0 1.02-.2 1.41-.59l7.78-7.78 2.81-2.81c.8-.78.8-2.07 0-2.86zM5.41 20L4 18.59l7.72-7.72 1.47 1.35L5.41 20z\"/>\n",
              "  </svg>\n",
              "      </button>\n",
              "      \n",
              "  <style>\n",
              "    .colab-df-container {\n",
              "      display:flex;\n",
              "      flex-wrap:wrap;\n",
              "      gap: 12px;\n",
              "    }\n",
              "\n",
              "    .colab-df-convert {\n",
              "      background-color: #E8F0FE;\n",
              "      border: none;\n",
              "      border-radius: 50%;\n",
              "      cursor: pointer;\n",
              "      display: none;\n",
              "      fill: #1967D2;\n",
              "      height: 32px;\n",
              "      padding: 0 0 0 0;\n",
              "      width: 32px;\n",
              "    }\n",
              "\n",
              "    .colab-df-convert:hover {\n",
              "      background-color: #E2EBFA;\n",
              "      box-shadow: 0px 1px 2px rgba(60, 64, 67, 0.3), 0px 1px 3px 1px rgba(60, 64, 67, 0.15);\n",
              "      fill: #174EA6;\n",
              "    }\n",
              "\n",
              "    [theme=dark] .colab-df-convert {\n",
              "      background-color: #3B4455;\n",
              "      fill: #D2E3FC;\n",
              "    }\n",
              "\n",
              "    [theme=dark] .colab-df-convert:hover {\n",
              "      background-color: #434B5C;\n",
              "      box-shadow: 0px 1px 3px 1px rgba(0, 0, 0, 0.15);\n",
              "      filter: drop-shadow(0px 1px 2px rgba(0, 0, 0, 0.3));\n",
              "      fill: #FFFFFF;\n",
              "    }\n",
              "  </style>\n",
              "\n",
              "      <script>\n",
              "        const buttonEl =\n",
              "          document.querySelector('#df-89af40a3-3d74-4915-b172-9ec379434420 button.colab-df-convert');\n",
              "        buttonEl.style.display =\n",
              "          google.colab.kernel.accessAllowed ? 'block' : 'none';\n",
              "\n",
              "        async function convertToInteractive(key) {\n",
              "          const element = document.querySelector('#df-89af40a3-3d74-4915-b172-9ec379434420');\n",
              "          const dataTable =\n",
              "            await google.colab.kernel.invokeFunction('convertToInteractive',\n",
              "                                                     [key], {});\n",
              "          if (!dataTable) return;\n",
              "\n",
              "          const docLinkHtml = 'Like what you see? Visit the ' +\n",
              "            '<a target=\"_blank\" href=https://colab.research.google.com/notebooks/data_table.ipynb>data table notebook</a>'\n",
              "            + ' to learn more about interactive tables.';\n",
              "          element.innerHTML = '';\n",
              "          dataTable['output_type'] = 'display_data';\n",
              "          await google.colab.output.renderOutput(dataTable, element);\n",
              "          const docLink = document.createElement('div');\n",
              "          docLink.innerHTML = docLinkHtml;\n",
              "          element.appendChild(docLink);\n",
              "        }\n",
              "      </script>\n",
              "    </div>\n",
              "  </div>\n",
              "  "
            ],
            "text/plain": [
              "   VisitID            BirdName  BirdType BirdSize  Gender VisitDate  \\\n",
              "0     2203        Mitz Johnson    Rufous        M  female   7/16/17   \n",
              "1     2204      Horace Prefect  Calliope        M    male   7/16/17   \n",
              "2     2205  Edeltraud McKnight    Rufous        M  female   7/16/17   \n",
              "3     2206    Herbert McKnight    Rufous        M    male   7/16/17   \n",
              "4     2207   Walpurga Schwalbe    Anna's        M  female   7/16/17   \n",
              "\n",
              "                 VisitSpan    Location Hoverfeed Amount Unnamed: 10  \n",
              "0  07:27:24.05-07:27:52.78  Back Patio        no  17 ml         NaN  \n",
              "1  07:45:07.65-07:45:17.97   NE Corner       yes   6 ml        0.31  \n",
              "2  08:09:52.10-08:10:22.74      Deck 2        no   5 ml         NaN  \n",
              "3  08:41:54.07-08:42:07.48      Deck 1       yes   2 ml         NaN  \n",
              "4  09:18:59.33-09:19:13.41      Garage       yes   3 ml         NaN  "
            ]
          },
          "execution_count": 6,
          "metadata": {},
          "output_type": "execute_result"
        }
      ],
      "source": [
        "df_obj = df.select_dtypes(['object']) #select all columns containing text (of type object)\n",
        "df[df_obj.columns] = df_obj.apply(lambda x: x.str.strip()) #trim all selected columns\n",
        "\n",
        "\n",
        "#code for viewing first few observations in dataset (hint: heading)\n",
        "df.head()"
      ]
    },
    {
      "cell_type": "markdown",
      "id": "7fe826a7",
      "metadata": {
        "id": "7fe826a7"
      },
      "source": [
        "### 4B\n",
        "\n",
        "Ensure each bird’s first and last name should be included in separate fields (columns)."
      ]
    },
    {
      "cell_type": "code",
      "execution_count": 7,
      "id": "545c9a32",
      "metadata": {
        "colab": {
          "base_uri": "https://localhost:8080/",
          "height": 204
        },
        "id": "545c9a32",
        "outputId": "1931477d-399d-4380-ad0d-6ce7a635055f"
      },
      "outputs": [
        {
          "data": {
            "text/html": [
              "\n",
              "  <div id=\"df-0f7b7b80-6433-4989-a76d-de84a977564a\">\n",
              "    <div class=\"colab-df-container\">\n",
              "      <div>\n",
              "<style scoped>\n",
              "    .dataframe tbody tr th:only-of-type {\n",
              "        vertical-align: middle;\n",
              "    }\n",
              "\n",
              "    .dataframe tbody tr th {\n",
              "        vertical-align: top;\n",
              "    }\n",
              "\n",
              "    .dataframe thead th {\n",
              "        text-align: right;\n",
              "    }\n",
              "</style>\n",
              "<table border=\"1\" class=\"dataframe\">\n",
              "  <thead>\n",
              "    <tr style=\"text-align: right;\">\n",
              "      <th></th>\n",
              "      <th>VisitID</th>\n",
              "      <th>BirdType</th>\n",
              "      <th>BirdSize</th>\n",
              "      <th>Gender</th>\n",
              "      <th>VisitDate</th>\n",
              "      <th>VisitSpan</th>\n",
              "      <th>Location</th>\n",
              "      <th>Hoverfeed</th>\n",
              "      <th>Amount</th>\n",
              "      <th>Unnamed: 10</th>\n",
              "      <th>birdfirstname</th>\n",
              "      <th>birdlastname</th>\n",
              "    </tr>\n",
              "  </thead>\n",
              "  <tbody>\n",
              "    <tr>\n",
              "      <th>0</th>\n",
              "      <td>2203</td>\n",
              "      <td>Rufous</td>\n",
              "      <td>M</td>\n",
              "      <td>female</td>\n",
              "      <td>7/16/17</td>\n",
              "      <td>07:27:24.05-07:27:52.78</td>\n",
              "      <td>Back Patio</td>\n",
              "      <td>no</td>\n",
              "      <td>17 ml</td>\n",
              "      <td>NaN</td>\n",
              "      <td>Mitz</td>\n",
              "      <td>Johnson</td>\n",
              "    </tr>\n",
              "    <tr>\n",
              "      <th>1</th>\n",
              "      <td>2204</td>\n",
              "      <td>Calliope</td>\n",
              "      <td>M</td>\n",
              "      <td>male</td>\n",
              "      <td>7/16/17</td>\n",
              "      <td>07:45:07.65-07:45:17.97</td>\n",
              "      <td>NE Corner</td>\n",
              "      <td>yes</td>\n",
              "      <td>6 ml</td>\n",
              "      <td>0.31</td>\n",
              "      <td>Horace</td>\n",
              "      <td>Prefect</td>\n",
              "    </tr>\n",
              "    <tr>\n",
              "      <th>2</th>\n",
              "      <td>2205</td>\n",
              "      <td>Rufous</td>\n",
              "      <td>M</td>\n",
              "      <td>female</td>\n",
              "      <td>7/16/17</td>\n",
              "      <td>08:09:52.10-08:10:22.74</td>\n",
              "      <td>Deck 2</td>\n",
              "      <td>no</td>\n",
              "      <td>5 ml</td>\n",
              "      <td>NaN</td>\n",
              "      <td>Edeltraud</td>\n",
              "      <td>McKnight</td>\n",
              "    </tr>\n",
              "    <tr>\n",
              "      <th>3</th>\n",
              "      <td>2206</td>\n",
              "      <td>Rufous</td>\n",
              "      <td>M</td>\n",
              "      <td>male</td>\n",
              "      <td>7/16/17</td>\n",
              "      <td>08:41:54.07-08:42:07.48</td>\n",
              "      <td>Deck 1</td>\n",
              "      <td>yes</td>\n",
              "      <td>2 ml</td>\n",
              "      <td>NaN</td>\n",
              "      <td>Herbert</td>\n",
              "      <td>McKnight</td>\n",
              "    </tr>\n",
              "    <tr>\n",
              "      <th>4</th>\n",
              "      <td>2207</td>\n",
              "      <td>Anna's</td>\n",
              "      <td>M</td>\n",
              "      <td>female</td>\n",
              "      <td>7/16/17</td>\n",
              "      <td>09:18:59.33-09:19:13.41</td>\n",
              "      <td>Garage</td>\n",
              "      <td>yes</td>\n",
              "      <td>3 ml</td>\n",
              "      <td>NaN</td>\n",
              "      <td>Walpurga</td>\n",
              "      <td>Schwalbe</td>\n",
              "    </tr>\n",
              "  </tbody>\n",
              "</table>\n",
              "</div>\n",
              "      <button class=\"colab-df-convert\" onclick=\"convertToInteractive('df-0f7b7b80-6433-4989-a76d-de84a977564a')\"\n",
              "              title=\"Convert this dataframe to an interactive table.\"\n",
              "              style=\"display:none;\">\n",
              "        \n",
              "  <svg xmlns=\"http://www.w3.org/2000/svg\" height=\"24px\"viewBox=\"0 0 24 24\"\n",
              "       width=\"24px\">\n",
              "    <path d=\"M0 0h24v24H0V0z\" fill=\"none\"/>\n",
              "    <path d=\"M18.56 5.44l.94 2.06.94-2.06 2.06-.94-2.06-.94-.94-2.06-.94 2.06-2.06.94zm-11 1L8.5 8.5l.94-2.06 2.06-.94-2.06-.94L8.5 2.5l-.94 2.06-2.06.94zm10 10l.94 2.06.94-2.06 2.06-.94-2.06-.94-.94-2.06-.94 2.06-2.06.94z\"/><path d=\"M17.41 7.96l-1.37-1.37c-.4-.4-.92-.59-1.43-.59-.52 0-1.04.2-1.43.59L10.3 9.45l-7.72 7.72c-.78.78-.78 2.05 0 2.83L4 21.41c.39.39.9.59 1.41.59.51 0 1.02-.2 1.41-.59l7.78-7.78 2.81-2.81c.8-.78.8-2.07 0-2.86zM5.41 20L4 18.59l7.72-7.72 1.47 1.35L5.41 20z\"/>\n",
              "  </svg>\n",
              "      </button>\n",
              "      \n",
              "  <style>\n",
              "    .colab-df-container {\n",
              "      display:flex;\n",
              "      flex-wrap:wrap;\n",
              "      gap: 12px;\n",
              "    }\n",
              "\n",
              "    .colab-df-convert {\n",
              "      background-color: #E8F0FE;\n",
              "      border: none;\n",
              "      border-radius: 50%;\n",
              "      cursor: pointer;\n",
              "      display: none;\n",
              "      fill: #1967D2;\n",
              "      height: 32px;\n",
              "      padding: 0 0 0 0;\n",
              "      width: 32px;\n",
              "    }\n",
              "\n",
              "    .colab-df-convert:hover {\n",
              "      background-color: #E2EBFA;\n",
              "      box-shadow: 0px 1px 2px rgba(60, 64, 67, 0.3), 0px 1px 3px 1px rgba(60, 64, 67, 0.15);\n",
              "      fill: #174EA6;\n",
              "    }\n",
              "\n",
              "    [theme=dark] .colab-df-convert {\n",
              "      background-color: #3B4455;\n",
              "      fill: #D2E3FC;\n",
              "    }\n",
              "\n",
              "    [theme=dark] .colab-df-convert:hover {\n",
              "      background-color: #434B5C;\n",
              "      box-shadow: 0px 1px 3px 1px rgba(0, 0, 0, 0.15);\n",
              "      filter: drop-shadow(0px 1px 2px rgba(0, 0, 0, 0.3));\n",
              "      fill: #FFFFFF;\n",
              "    }\n",
              "  </style>\n",
              "\n",
              "      <script>\n",
              "        const buttonEl =\n",
              "          document.querySelector('#df-0f7b7b80-6433-4989-a76d-de84a977564a button.colab-df-convert');\n",
              "        buttonEl.style.display =\n",
              "          google.colab.kernel.accessAllowed ? 'block' : 'none';\n",
              "\n",
              "        async function convertToInteractive(key) {\n",
              "          const element = document.querySelector('#df-0f7b7b80-6433-4989-a76d-de84a977564a');\n",
              "          const dataTable =\n",
              "            await google.colab.kernel.invokeFunction('convertToInteractive',\n",
              "                                                     [key], {});\n",
              "          if (!dataTable) return;\n",
              "\n",
              "          const docLinkHtml = 'Like what you see? Visit the ' +\n",
              "            '<a target=\"_blank\" href=https://colab.research.google.com/notebooks/data_table.ipynb>data table notebook</a>'\n",
              "            + ' to learn more about interactive tables.';\n",
              "          element.innerHTML = '';\n",
              "          dataTable['output_type'] = 'display_data';\n",
              "          await google.colab.output.renderOutput(dataTable, element);\n",
              "          const docLink = document.createElement('div');\n",
              "          docLink.innerHTML = docLinkHtml;\n",
              "          element.appendChild(docLink);\n",
              "        }\n",
              "      </script>\n",
              "    </div>\n",
              "  </div>\n",
              "  "
            ],
            "text/plain": [
              "   VisitID  BirdType BirdSize  Gender VisitDate                VisitSpan  \\\n",
              "0     2203    Rufous        M  female   7/16/17  07:27:24.05-07:27:52.78   \n",
              "1     2204  Calliope        M    male   7/16/17  07:45:07.65-07:45:17.97   \n",
              "2     2205    Rufous        M  female   7/16/17  08:09:52.10-08:10:22.74   \n",
              "3     2206    Rufous        M    male   7/16/17  08:41:54.07-08:42:07.48   \n",
              "4     2207    Anna's        M  female   7/16/17  09:18:59.33-09:19:13.41   \n",
              "\n",
              "     Location Hoverfeed Amount Unnamed: 10 birdfirstname birdlastname  \n",
              "0  Back Patio        no  17 ml         NaN          Mitz      Johnson  \n",
              "1   NE Corner       yes   6 ml        0.31        Horace      Prefect  \n",
              "2      Deck 2        no   5 ml         NaN     Edeltraud     McKnight  \n",
              "3      Deck 1       yes   2 ml         NaN       Herbert     McKnight  \n",
              "4      Garage       yes   3 ml         NaN      Walpurga     Schwalbe  "
            ]
          },
          "execution_count": 7,
          "metadata": {},
          "output_type": "execute_result"
        }
      ],
      "source": [
        "#create new split columns for first and last name\n",
        "df[['birdfirstname', 'birdlastname']] = df['BirdName'].str.split(' ', expand = True)\n",
        "\n",
        "#drop birdname column\n",
        "df = df.drop(['BirdName'], axis=1)\n",
        "\n",
        "#show df heading\n",
        "df.head()"
      ]
    },
    {
      "cell_type": "markdown",
      "id": "b6f368ad",
      "metadata": {
        "id": "b6f368ad"
      },
      "source": [
        "### 4C\n",
        "Ensure that data values are standardized in each column (pay particular attention to the textual columns, BirdName, BirdType, BirdSize, Gender, Location, and Hoverfeed) so that each “idea” (e.g., a species of bird) is specified (i.e., spelled) the same way. \n",
        "\n",
        "This can be checked for each column by using the .value_counts() method! After applying the standarization, show that the correction has been made by using the .value_counts() method to display all categories for each column of interest."
      ]
    },
    {
      "cell_type": "code",
      "execution_count": 8,
      "id": "3a5e1e24",
      "metadata": {
        "colab": {
          "base_uri": "https://localhost:8080/"
        },
        "id": "3a5e1e24",
        "outputId": "73900d47-1122-4b6a-a632-7f0ac792ce42"
      },
      "outputs": [
        {
          "data": {
            "text/plain": [
              "Rufous      95\n",
              "Anna's      78\n",
              "Calliope    51\n",
              "Rufus        5\n",
              "Prefect      2\n",
              "Name: BirdType, dtype: int64"
            ]
          },
          "execution_count": 8,
          "metadata": {},
          "output_type": "execute_result"
        }
      ],
      "source": [
        "#Examine levels in BirdType using the value_counts() method\n",
        "df['BirdType'].value_counts()"
      ]
    },
    {
      "cell_type": "code",
      "execution_count": 9,
      "id": "e041b67b",
      "metadata": {
        "id": "e041b67b"
      },
      "outputs": [],
      "source": [
        "#replace redundant values in BirdType\n",
        "df = df.replace(['Rufus'], ['Rufous'])"
      ]
    },
    {
      "cell_type": "code",
      "execution_count": 10,
      "id": "PCFnx_3duBi9",
      "metadata": {
        "colab": {
          "base_uri": "https://localhost:8080/"
        },
        "id": "PCFnx_3duBi9",
        "outputId": "22024466-b860-4aa7-e1cd-fdef5176fefb"
      },
      "outputs": [
        {
          "data": {
            "text/plain": [
              "Rufous      100\n",
              "Anna's       78\n",
              "Calliope     51\n",
              "Prefect       2\n",
              "Name: BirdType, dtype: int64"
            ]
          },
          "execution_count": 10,
          "metadata": {},
          "output_type": "execute_result"
        }
      ],
      "source": [
        "df['BirdType'].value_counts()"
      ]
    },
    {
      "cell_type": "code",
      "execution_count": 11,
      "id": "28cbde29",
      "metadata": {
        "colab": {
          "base_uri": "https://localhost:8080/"
        },
        "id": "28cbde29",
        "outputId": "92f7b3e1-b877-415b-bc80-672426c6fa45"
      },
      "outputs": [
        {
          "data": {
            "text/plain": [
              "M         147\n",
              "S          38\n",
              "L          27\n",
              "XL         17\n",
              "medium      8\n",
              "            1\n",
              "20 ml       1\n",
              "Name: BirdSize, dtype: int64"
            ]
          },
          "execution_count": 11,
          "metadata": {},
          "output_type": "execute_result"
        }
      ],
      "source": [
        "#examine levels of BirdSize\n",
        "df['BirdSize'].value_counts()"
      ]
    },
    {
      "cell_type": "code",
      "execution_count": 12,
      "id": "5c0847f3",
      "metadata": {
        "colab": {
          "base_uri": "https://localhost:8080/"
        },
        "id": "5c0847f3",
        "outputId": "65925c9d-bcc5-444c-a795-faea50428be1"
      },
      "outputs": [
        {
          "data": {
            "text/plain": [
              "M        155\n",
              "S         38\n",
              "L         27\n",
              "XL        17\n",
              "           1\n",
              "20 ml      1\n",
              "Name: BirdSize, dtype: int64"
            ]
          },
          "execution_count": 12,
          "metadata": {},
          "output_type": "execute_result"
        }
      ],
      "source": [
        "#replace redundant values in BirdSize\n",
        "df = df.replace(['medium'], ['M'])\n",
        "df['BirdSize'].value_counts()"
      ]
    },
    {
      "cell_type": "code",
      "execution_count": 13,
      "id": "87ee6892",
      "metadata": {
        "colab": {
          "base_uri": "https://localhost:8080/"
        },
        "id": "87ee6892",
        "outputId": "9bf5be3f-130c-45af-e7ea-e27c9c93d0b9"
      },
      "outputs": [
        {
          "data": {
            "text/plain": [
              "Back Patio                 64\n",
              "Deck 2                     50\n",
              "Deck 1                     38\n",
              "NE Corner                  34\n",
              "Garage                     29\n",
              "Entry                      22\n",
              "13:14:33.36-13:15:09.25     1\n",
              "Deck. 2                     1\n",
              "Back  Patio                 1\n",
              "15:16:40.19-15:16:55.98     1\n",
              "Name: Location, dtype: int64"
            ]
          },
          "execution_count": 13,
          "metadata": {},
          "output_type": "execute_result"
        }
      ],
      "source": [
        "#examine levels of location\n",
        "df['Location'].value_counts()"
      ]
    },
    {
      "cell_type": "code",
      "execution_count": 14,
      "id": "a53541fc",
      "metadata": {
        "colab": {
          "base_uri": "https://localhost:8080/"
        },
        "id": "a53541fc",
        "outputId": "3b7b0a70-16ca-4c73-8be8-1baa3fc0ce65"
      },
      "outputs": [
        {
          "data": {
            "text/plain": [
              "Back Patio                 65\n",
              "Deck 2                     51\n",
              "Deck 1                     38\n",
              "NE Corner                  34\n",
              "Garage                     29\n",
              "Entry                      22\n",
              "13:14:33.36-13:15:09.25     1\n",
              "15:16:40.19-15:16:55.98     1\n",
              "Name: Location, dtype: int64"
            ]
          },
          "execution_count": 14,
          "metadata": {},
          "output_type": "execute_result"
        }
      ],
      "source": [
        "#replace redundant values of Location\n",
        "df = df.replace(['Deck. 2', 'Back  Patio'], ['Deck 2', 'Back Patio'])\n",
        "df['Location'].value_counts()"
      ]
    },
    {
      "cell_type": "markdown",
      "id": "38acbc02",
      "metadata": {
        "id": "38acbc02"
      },
      "source": [
        "### 4D\n",
        "The amount eaten is very important to our analysis. Where this value is null (blank), omit the record. Note that values of 0 are not the same as null. Retain (don’t delete) the records where the value of Amount is 0. Other issues with this attribute will be addressed later.\n",
        "\n",
        "Before removing missing columns first examine the length of the dataset currently using the len() method. Then split the *Amount* column into two columns, *Amount_Eat* and *Unit*. Finally, change *Amount_Eat* to a float object using pd.to_numeric().\n",
        "\n",
        "Once missing values are dropped, view the length of the dataset again using the len() method to see how many observations were dropped."
      ]
    },
    {
      "cell_type": "code",
      "execution_count": 15,
      "id": "ab43e7b8",
      "metadata": {
        "colab": {
          "base_uri": "https://localhost:8080/"
        },
        "id": "ab43e7b8",
        "outputId": "e20ca516-3085-40bd-c6fe-4f310c9df5cb"
      },
      "outputs": [
        {
          "data": {
            "text/plain": [
              "241"
            ]
          },
          "execution_count": 15,
          "metadata": {},
          "output_type": "execute_result"
        }
      ],
      "source": [
        "len(df) #return length of dataframe (i.e., number of rows)"
      ]
    },
    {
      "cell_type": "code",
      "execution_count": 19,
      "id": "09726b6f",
      "metadata": {
        "colab": {
          "base_uri": "https://localhost:8080/",
          "height": 204
        },
        "id": "09726b6f",
        "outputId": "fd706997-601d-4788-e61b-17bdbdf8a555"
      },
      "outputs": [
        {
          "data": {
            "text/html": [
              "\n",
              "  <div id=\"df-146313a8-f4c6-4030-be55-9f25cb35251a\">\n",
              "    <div class=\"colab-df-container\">\n",
              "      <div>\n",
              "<style scoped>\n",
              "    .dataframe tbody tr th:only-of-type {\n",
              "        vertical-align: middle;\n",
              "    }\n",
              "\n",
              "    .dataframe tbody tr th {\n",
              "        vertical-align: top;\n",
              "    }\n",
              "\n",
              "    .dataframe thead th {\n",
              "        text-align: right;\n",
              "    }\n",
              "</style>\n",
              "<table border=\"1\" class=\"dataframe\">\n",
              "  <thead>\n",
              "    <tr style=\"text-align: right;\">\n",
              "      <th></th>\n",
              "      <th>VisitID</th>\n",
              "      <th>BirdType</th>\n",
              "      <th>BirdSize</th>\n",
              "      <th>Gender</th>\n",
              "      <th>VisitDate</th>\n",
              "      <th>VisitSpan</th>\n",
              "      <th>Location</th>\n",
              "      <th>Hoverfeed</th>\n",
              "      <th>Unnamed: 10</th>\n",
              "      <th>birdfirstname</th>\n",
              "      <th>birdlastname</th>\n",
              "      <th>Amount_Eat</th>\n",
              "      <th>Unit</th>\n",
              "    </tr>\n",
              "  </thead>\n",
              "  <tbody>\n",
              "    <tr>\n",
              "      <th>0</th>\n",
              "      <td>2203</td>\n",
              "      <td>Rufous</td>\n",
              "      <td>M</td>\n",
              "      <td>female</td>\n",
              "      <td>7/16/17</td>\n",
              "      <td>07:27:24.05-07:27:52.78</td>\n",
              "      <td>Back Patio</td>\n",
              "      <td>no</td>\n",
              "      <td>NaN</td>\n",
              "      <td>Mitz</td>\n",
              "      <td>Johnson</td>\n",
              "      <td>17</td>\n",
              "      <td>ml</td>\n",
              "    </tr>\n",
              "    <tr>\n",
              "      <th>1</th>\n",
              "      <td>2204</td>\n",
              "      <td>Calliope</td>\n",
              "      <td>M</td>\n",
              "      <td>male</td>\n",
              "      <td>7/16/17</td>\n",
              "      <td>07:45:07.65-07:45:17.97</td>\n",
              "      <td>NE Corner</td>\n",
              "      <td>yes</td>\n",
              "      <td>0.31</td>\n",
              "      <td>Horace</td>\n",
              "      <td>Prefect</td>\n",
              "      <td>6</td>\n",
              "      <td>ml</td>\n",
              "    </tr>\n",
              "    <tr>\n",
              "      <th>2</th>\n",
              "      <td>2205</td>\n",
              "      <td>Rufous</td>\n",
              "      <td>M</td>\n",
              "      <td>female</td>\n",
              "      <td>7/16/17</td>\n",
              "      <td>08:09:52.10-08:10:22.74</td>\n",
              "      <td>Deck 2</td>\n",
              "      <td>no</td>\n",
              "      <td>NaN</td>\n",
              "      <td>Edeltraud</td>\n",
              "      <td>McKnight</td>\n",
              "      <td>5</td>\n",
              "      <td>ml</td>\n",
              "    </tr>\n",
              "    <tr>\n",
              "      <th>3</th>\n",
              "      <td>2206</td>\n",
              "      <td>Rufous</td>\n",
              "      <td>M</td>\n",
              "      <td>male</td>\n",
              "      <td>7/16/17</td>\n",
              "      <td>08:41:54.07-08:42:07.48</td>\n",
              "      <td>Deck 1</td>\n",
              "      <td>yes</td>\n",
              "      <td>NaN</td>\n",
              "      <td>Herbert</td>\n",
              "      <td>McKnight</td>\n",
              "      <td>2</td>\n",
              "      <td>ml</td>\n",
              "    </tr>\n",
              "    <tr>\n",
              "      <th>4</th>\n",
              "      <td>2207</td>\n",
              "      <td>Anna's</td>\n",
              "      <td>M</td>\n",
              "      <td>female</td>\n",
              "      <td>7/16/17</td>\n",
              "      <td>09:18:59.33-09:19:13.41</td>\n",
              "      <td>Garage</td>\n",
              "      <td>yes</td>\n",
              "      <td>NaN</td>\n",
              "      <td>Walpurga</td>\n",
              "      <td>Schwalbe</td>\n",
              "      <td>3</td>\n",
              "      <td>ml</td>\n",
              "    </tr>\n",
              "  </tbody>\n",
              "</table>\n",
              "</div>\n",
              "      <button class=\"colab-df-convert\" onclick=\"convertToInteractive('df-146313a8-f4c6-4030-be55-9f25cb35251a')\"\n",
              "              title=\"Convert this dataframe to an interactive table.\"\n",
              "              style=\"display:none;\">\n",
              "        \n",
              "  <svg xmlns=\"http://www.w3.org/2000/svg\" height=\"24px\"viewBox=\"0 0 24 24\"\n",
              "       width=\"24px\">\n",
              "    <path d=\"M0 0h24v24H0V0z\" fill=\"none\"/>\n",
              "    <path d=\"M18.56 5.44l.94 2.06.94-2.06 2.06-.94-2.06-.94-.94-2.06-.94 2.06-2.06.94zm-11 1L8.5 8.5l.94-2.06 2.06-.94-2.06-.94L8.5 2.5l-.94 2.06-2.06.94zm10 10l.94 2.06.94-2.06 2.06-.94-2.06-.94-.94-2.06-.94 2.06-2.06.94z\"/><path d=\"M17.41 7.96l-1.37-1.37c-.4-.4-.92-.59-1.43-.59-.52 0-1.04.2-1.43.59L10.3 9.45l-7.72 7.72c-.78.78-.78 2.05 0 2.83L4 21.41c.39.39.9.59 1.41.59.51 0 1.02-.2 1.41-.59l7.78-7.78 2.81-2.81c.8-.78.8-2.07 0-2.86zM5.41 20L4 18.59l7.72-7.72 1.47 1.35L5.41 20z\"/>\n",
              "  </svg>\n",
              "      </button>\n",
              "      \n",
              "  <style>\n",
              "    .colab-df-container {\n",
              "      display:flex;\n",
              "      flex-wrap:wrap;\n",
              "      gap: 12px;\n",
              "    }\n",
              "\n",
              "    .colab-df-convert {\n",
              "      background-color: #E8F0FE;\n",
              "      border: none;\n",
              "      border-radius: 50%;\n",
              "      cursor: pointer;\n",
              "      display: none;\n",
              "      fill: #1967D2;\n",
              "      height: 32px;\n",
              "      padding: 0 0 0 0;\n",
              "      width: 32px;\n",
              "    }\n",
              "\n",
              "    .colab-df-convert:hover {\n",
              "      background-color: #E2EBFA;\n",
              "      box-shadow: 0px 1px 2px rgba(60, 64, 67, 0.3), 0px 1px 3px 1px rgba(60, 64, 67, 0.15);\n",
              "      fill: #174EA6;\n",
              "    }\n",
              "\n",
              "    [theme=dark] .colab-df-convert {\n",
              "      background-color: #3B4455;\n",
              "      fill: #D2E3FC;\n",
              "    }\n",
              "\n",
              "    [theme=dark] .colab-df-convert:hover {\n",
              "      background-color: #434B5C;\n",
              "      box-shadow: 0px 1px 3px 1px rgba(0, 0, 0, 0.15);\n",
              "      filter: drop-shadow(0px 1px 2px rgba(0, 0, 0, 0.3));\n",
              "      fill: #FFFFFF;\n",
              "    }\n",
              "  </style>\n",
              "\n",
              "      <script>\n",
              "        const buttonEl =\n",
              "          document.querySelector('#df-146313a8-f4c6-4030-be55-9f25cb35251a button.colab-df-convert');\n",
              "        buttonEl.style.display =\n",
              "          google.colab.kernel.accessAllowed ? 'block' : 'none';\n",
              "\n",
              "        async function convertToInteractive(key) {\n",
              "          const element = document.querySelector('#df-146313a8-f4c6-4030-be55-9f25cb35251a');\n",
              "          const dataTable =\n",
              "            await google.colab.kernel.invokeFunction('convertToInteractive',\n",
              "                                                     [key], {});\n",
              "          if (!dataTable) return;\n",
              "\n",
              "          const docLinkHtml = 'Like what you see? Visit the ' +\n",
              "            '<a target=\"_blank\" href=https://colab.research.google.com/notebooks/data_table.ipynb>data table notebook</a>'\n",
              "            + ' to learn more about interactive tables.';\n",
              "          element.innerHTML = '';\n",
              "          dataTable['output_type'] = 'display_data';\n",
              "          await google.colab.output.renderOutput(dataTable, element);\n",
              "          const docLink = document.createElement('div');\n",
              "          docLink.innerHTML = docLinkHtml;\n",
              "          element.appendChild(docLink);\n",
              "        }\n",
              "      </script>\n",
              "    </div>\n",
              "  </div>\n",
              "  "
            ],
            "text/plain": [
              "   VisitID  BirdType BirdSize  Gender VisitDate                VisitSpan  \\\n",
              "0     2203    Rufous        M  female   7/16/17  07:27:24.05-07:27:52.78   \n",
              "1     2204  Calliope        M    male   7/16/17  07:45:07.65-07:45:17.97   \n",
              "2     2205    Rufous        M  female   7/16/17  08:09:52.10-08:10:22.74   \n",
              "3     2206    Rufous        M    male   7/16/17  08:41:54.07-08:42:07.48   \n",
              "4     2207    Anna's        M  female   7/16/17  09:18:59.33-09:19:13.41   \n",
              "\n",
              "     Location Hoverfeed Unnamed: 10 birdfirstname birdlastname Amount_Eat Unit  \n",
              "0  Back Patio        no         NaN          Mitz      Johnson         17   ml  \n",
              "1   NE Corner       yes        0.31        Horace      Prefect          6   ml  \n",
              "2      Deck 2        no         NaN     Edeltraud     McKnight          5   ml  \n",
              "3      Deck 1       yes         NaN       Herbert     McKnight          2   ml  \n",
              "4      Garage       yes         NaN      Walpurga     Schwalbe          3   ml  "
            ]
          },
          "execution_count": 19,
          "metadata": {},
          "output_type": "execute_result"
        }
      ],
      "source": [
        "#create new split columns for 'Amount_Eat' and 'Unit' from the 'Amount' column\n",
        "df[['Amount_Eat', 'Unit']] = df['Amount'].str.split(' ', expand = True)\n",
        "#drop 'Amount' column\n",
        "df = df.drop(['Amount'], axis=1)\n",
        "#view heading of dataframe (df.head())\n",
        "df.head()"
      ]
    },
    {
      "cell_type": "code",
      "execution_count": 20,
      "id": "c840be04",
      "metadata": {
        "id": "c840be04",
        "scrolled": true
      },
      "outputs": [],
      "source": [
        "df['Amount_Eat'] = df['Amount_Eat'].apply(pd.to_numeric, errors='coerce') #convert Amount_Eat column variable dtype from object to float"
      ]
    },
    {
      "cell_type": "code",
      "execution_count": 21,
      "id": "bb662493",
      "metadata": {
        "colab": {
          "base_uri": "https://localhost:8080/"
        },
        "id": "bb662493",
        "outputId": "57dc37ef-0bda-4816-d1c3-f167a4e863e2"
      },
      "outputs": [
        {
          "data": {
            "text/plain": [
              "236"
            ]
          },
          "execution_count": 21,
          "metadata": {},
          "output_type": "execute_result"
        }
      ],
      "source": [
        "#retain only observations that don't have NaNs for the 'Amount_Eat' column\n",
        "df = df[df['Amount_Eat'].notna()]\n",
        "#check the new length of the dataset\n",
        "len(df)"
      ]
    },
    {
      "cell_type": "markdown",
      "id": "0b85b619",
      "metadata": {
        "id": "0b85b619"
      },
      "source": [
        "### 4E\n",
        "\n",
        "Ensure that each visit is unique. In other words, no visit should be recorded more than once (duplicated). Remove duplicates from the VisitSpan column  using the drop_duplicates() method.\n",
        "\n",
        "Then use the len() method to show how many observations were dropped."
      ]
    },
    {
      "cell_type": "code",
      "execution_count": 22,
      "id": "c2d28b15",
      "metadata": {
        "colab": {
          "base_uri": "https://localhost:8080/"
        },
        "id": "c2d28b15",
        "outputId": "c607fb47-09f5-4c68-f773-418a1d373be3"
      },
      "outputs": [
        {
          "data": {
            "text/plain": [
              "232"
            ]
          },
          "execution_count": 22,
          "metadata": {},
          "output_type": "execute_result"
        }
      ],
      "source": [
        "df = df.drop_duplicates(subset=['VisitSpan']) #drop duplicate records from the 'VisitSpan' column\n",
        "\n",
        "#check the new length of the dataset\n",
        "len(df)"
      ]
    },
    {
      "cell_type": "markdown",
      "id": "ebec3b72",
      "metadata": {
        "id": "ebec3b72"
      },
      "source": [
        "### 4F\n",
        "Split the VisitSpan column into two columns: rename them StartTime and EndTime.\n",
        "\n",
        "Then ensure that both time columns are set as datetime objects by using the pd.to_datetime() method. "
      ]
    },
    {
      "cell_type": "code",
      "execution_count": 23,
      "id": "caea6827",
      "metadata": {
        "colab": {
          "base_uri": "https://localhost:8080/",
          "height": 350
        },
        "id": "caea6827",
        "outputId": "2aff2b11-270d-4a14-e6d4-752431e9de0a"
      },
      "outputs": [
        {
          "data": {
            "text/html": [
              "\n",
              "  <div id=\"df-9d4e3c8c-96fb-4b8a-b9e4-b8d72de28199\">\n",
              "    <div class=\"colab-df-container\">\n",
              "      <div>\n",
              "<style scoped>\n",
              "    .dataframe tbody tr th:only-of-type {\n",
              "        vertical-align: middle;\n",
              "    }\n",
              "\n",
              "    .dataframe tbody tr th {\n",
              "        vertical-align: top;\n",
              "    }\n",
              "\n",
              "    .dataframe thead th {\n",
              "        text-align: right;\n",
              "    }\n",
              "</style>\n",
              "<table border=\"1\" class=\"dataframe\">\n",
              "  <thead>\n",
              "    <tr style=\"text-align: right;\">\n",
              "      <th></th>\n",
              "      <th>VisitID</th>\n",
              "      <th>BirdType</th>\n",
              "      <th>BirdSize</th>\n",
              "      <th>Gender</th>\n",
              "      <th>VisitDate</th>\n",
              "      <th>Location</th>\n",
              "      <th>Hoverfeed</th>\n",
              "      <th>Unnamed: 10</th>\n",
              "      <th>birdfirstname</th>\n",
              "      <th>birdlastname</th>\n",
              "      <th>Amount_Eat</th>\n",
              "      <th>Unit</th>\n",
              "      <th>StartTime</th>\n",
              "      <th>EndTime</th>\n",
              "    </tr>\n",
              "  </thead>\n",
              "  <tbody>\n",
              "    <tr>\n",
              "      <th>0</th>\n",
              "      <td>2203</td>\n",
              "      <td>Rufous</td>\n",
              "      <td>M</td>\n",
              "      <td>female</td>\n",
              "      <td>7/16/17</td>\n",
              "      <td>Back Patio</td>\n",
              "      <td>no</td>\n",
              "      <td>NaN</td>\n",
              "      <td>Mitz</td>\n",
              "      <td>Johnson</td>\n",
              "      <td>17.0</td>\n",
              "      <td>ml</td>\n",
              "      <td>1900-01-01 07:27:24.050</td>\n",
              "      <td>1900-01-01 07:27:52.780</td>\n",
              "    </tr>\n",
              "    <tr>\n",
              "      <th>1</th>\n",
              "      <td>2204</td>\n",
              "      <td>Calliope</td>\n",
              "      <td>M</td>\n",
              "      <td>male</td>\n",
              "      <td>7/16/17</td>\n",
              "      <td>NE Corner</td>\n",
              "      <td>yes</td>\n",
              "      <td>0.31</td>\n",
              "      <td>Horace</td>\n",
              "      <td>Prefect</td>\n",
              "      <td>6.0</td>\n",
              "      <td>ml</td>\n",
              "      <td>1900-01-01 07:45:07.650</td>\n",
              "      <td>1900-01-01 07:45:17.970</td>\n",
              "    </tr>\n",
              "    <tr>\n",
              "      <th>2</th>\n",
              "      <td>2205</td>\n",
              "      <td>Rufous</td>\n",
              "      <td>M</td>\n",
              "      <td>female</td>\n",
              "      <td>7/16/17</td>\n",
              "      <td>Deck 2</td>\n",
              "      <td>no</td>\n",
              "      <td>NaN</td>\n",
              "      <td>Edeltraud</td>\n",
              "      <td>McKnight</td>\n",
              "      <td>5.0</td>\n",
              "      <td>ml</td>\n",
              "      <td>1900-01-01 08:09:52.100</td>\n",
              "      <td>1900-01-01 08:10:22.740</td>\n",
              "    </tr>\n",
              "    <tr>\n",
              "      <th>3</th>\n",
              "      <td>2206</td>\n",
              "      <td>Rufous</td>\n",
              "      <td>M</td>\n",
              "      <td>male</td>\n",
              "      <td>7/16/17</td>\n",
              "      <td>Deck 1</td>\n",
              "      <td>yes</td>\n",
              "      <td>NaN</td>\n",
              "      <td>Herbert</td>\n",
              "      <td>McKnight</td>\n",
              "      <td>2.0</td>\n",
              "      <td>ml</td>\n",
              "      <td>1900-01-01 08:41:54.070</td>\n",
              "      <td>1900-01-01 08:42:07.480</td>\n",
              "    </tr>\n",
              "    <tr>\n",
              "      <th>4</th>\n",
              "      <td>2207</td>\n",
              "      <td>Anna's</td>\n",
              "      <td>M</td>\n",
              "      <td>female</td>\n",
              "      <td>7/16/17</td>\n",
              "      <td>Garage</td>\n",
              "      <td>yes</td>\n",
              "      <td>NaN</td>\n",
              "      <td>Walpurga</td>\n",
              "      <td>Schwalbe</td>\n",
              "      <td>3.0</td>\n",
              "      <td>ml</td>\n",
              "      <td>1900-01-01 09:18:59.330</td>\n",
              "      <td>1900-01-01 09:19:13.410</td>\n",
              "    </tr>\n",
              "  </tbody>\n",
              "</table>\n",
              "</div>\n",
              "      <button class=\"colab-df-convert\" onclick=\"convertToInteractive('df-9d4e3c8c-96fb-4b8a-b9e4-b8d72de28199')\"\n",
              "              title=\"Convert this dataframe to an interactive table.\"\n",
              "              style=\"display:none;\">\n",
              "        \n",
              "  <svg xmlns=\"http://www.w3.org/2000/svg\" height=\"24px\"viewBox=\"0 0 24 24\"\n",
              "       width=\"24px\">\n",
              "    <path d=\"M0 0h24v24H0V0z\" fill=\"none\"/>\n",
              "    <path d=\"M18.56 5.44l.94 2.06.94-2.06 2.06-.94-2.06-.94-.94-2.06-.94 2.06-2.06.94zm-11 1L8.5 8.5l.94-2.06 2.06-.94-2.06-.94L8.5 2.5l-.94 2.06-2.06.94zm10 10l.94 2.06.94-2.06 2.06-.94-2.06-.94-.94-2.06-.94 2.06-2.06.94z\"/><path d=\"M17.41 7.96l-1.37-1.37c-.4-.4-.92-.59-1.43-.59-.52 0-1.04.2-1.43.59L10.3 9.45l-7.72 7.72c-.78.78-.78 2.05 0 2.83L4 21.41c.39.39.9.59 1.41.59.51 0 1.02-.2 1.41-.59l7.78-7.78 2.81-2.81c.8-.78.8-2.07 0-2.86zM5.41 20L4 18.59l7.72-7.72 1.47 1.35L5.41 20z\"/>\n",
              "  </svg>\n",
              "      </button>\n",
              "      \n",
              "  <style>\n",
              "    .colab-df-container {\n",
              "      display:flex;\n",
              "      flex-wrap:wrap;\n",
              "      gap: 12px;\n",
              "    }\n",
              "\n",
              "    .colab-df-convert {\n",
              "      background-color: #E8F0FE;\n",
              "      border: none;\n",
              "      border-radius: 50%;\n",
              "      cursor: pointer;\n",
              "      display: none;\n",
              "      fill: #1967D2;\n",
              "      height: 32px;\n",
              "      padding: 0 0 0 0;\n",
              "      width: 32px;\n",
              "    }\n",
              "\n",
              "    .colab-df-convert:hover {\n",
              "      background-color: #E2EBFA;\n",
              "      box-shadow: 0px 1px 2px rgba(60, 64, 67, 0.3), 0px 1px 3px 1px rgba(60, 64, 67, 0.15);\n",
              "      fill: #174EA6;\n",
              "    }\n",
              "\n",
              "    [theme=dark] .colab-df-convert {\n",
              "      background-color: #3B4455;\n",
              "      fill: #D2E3FC;\n",
              "    }\n",
              "\n",
              "    [theme=dark] .colab-df-convert:hover {\n",
              "      background-color: #434B5C;\n",
              "      box-shadow: 0px 1px 3px 1px rgba(0, 0, 0, 0.15);\n",
              "      filter: drop-shadow(0px 1px 2px rgba(0, 0, 0, 0.3));\n",
              "      fill: #FFFFFF;\n",
              "    }\n",
              "  </style>\n",
              "\n",
              "      <script>\n",
              "        const buttonEl =\n",
              "          document.querySelector('#df-9d4e3c8c-96fb-4b8a-b9e4-b8d72de28199 button.colab-df-convert');\n",
              "        buttonEl.style.display =\n",
              "          google.colab.kernel.accessAllowed ? 'block' : 'none';\n",
              "\n",
              "        async function convertToInteractive(key) {\n",
              "          const element = document.querySelector('#df-9d4e3c8c-96fb-4b8a-b9e4-b8d72de28199');\n",
              "          const dataTable =\n",
              "            await google.colab.kernel.invokeFunction('convertToInteractive',\n",
              "                                                     [key], {});\n",
              "          if (!dataTable) return;\n",
              "\n",
              "          const docLinkHtml = 'Like what you see? Visit the ' +\n",
              "            '<a target=\"_blank\" href=https://colab.research.google.com/notebooks/data_table.ipynb>data table notebook</a>'\n",
              "            + ' to learn more about interactive tables.';\n",
              "          element.innerHTML = '';\n",
              "          dataTable['output_type'] = 'display_data';\n",
              "          await google.colab.output.renderOutput(dataTable, element);\n",
              "          const docLink = document.createElement('div');\n",
              "          docLink.innerHTML = docLinkHtml;\n",
              "          element.appendChild(docLink);\n",
              "        }\n",
              "      </script>\n",
              "    </div>\n",
              "  </div>\n",
              "  "
            ],
            "text/plain": [
              "   VisitID  BirdType BirdSize  Gender VisitDate    Location Hoverfeed  \\\n",
              "0     2203    Rufous        M  female   7/16/17  Back Patio        no   \n",
              "1     2204  Calliope        M    male   7/16/17   NE Corner       yes   \n",
              "2     2205    Rufous        M  female   7/16/17      Deck 2        no   \n",
              "3     2206    Rufous        M    male   7/16/17      Deck 1       yes   \n",
              "4     2207    Anna's        M  female   7/16/17      Garage       yes   \n",
              "\n",
              "  Unnamed: 10 birdfirstname birdlastname  Amount_Eat Unit  \\\n",
              "0         NaN          Mitz      Johnson        17.0   ml   \n",
              "1        0.31        Horace      Prefect         6.0   ml   \n",
              "2         NaN     Edeltraud     McKnight         5.0   ml   \n",
              "3         NaN       Herbert     McKnight         2.0   ml   \n",
              "4         NaN      Walpurga     Schwalbe         3.0   ml   \n",
              "\n",
              "                StartTime                 EndTime  \n",
              "0 1900-01-01 07:27:24.050 1900-01-01 07:27:52.780  \n",
              "1 1900-01-01 07:45:07.650 1900-01-01 07:45:17.970  \n",
              "2 1900-01-01 08:09:52.100 1900-01-01 08:10:22.740  \n",
              "3 1900-01-01 08:41:54.070 1900-01-01 08:42:07.480  \n",
              "4 1900-01-01 09:18:59.330 1900-01-01 09:19:13.410  "
            ]
          },
          "execution_count": 23,
          "metadata": {},
          "output_type": "execute_result"
        }
      ],
      "source": [
        "#split 'VisitSpan' based on the '-' delimiter, create a StartTime and EndTime column \n",
        "df[['StartTime', 'EndTime']] = df['VisitSpan'].str.split('-', expand = True) #use for /\n",
        "\n",
        "df['StartTime'] = pd.to_datetime(df['StartTime'], format='%H:%M:%S.%f') #convert StartTime to hours:minutes:seconds format\n",
        "df['EndTime'] = pd.to_datetime(df['EndTime'], format='%H:%M:%S.%f') #convert EndTime to hours:minutes:seconds format\n",
        "\n",
        "#drop the 'VisitSpan' column\n",
        "df = df.drop(['VisitSpan'], axis=1)\n",
        "\n",
        "#view df heading\n",
        "df.head()"
      ]
    },
    {
      "cell_type": "markdown",
      "id": "4819b0ab",
      "metadata": {
        "id": "4819b0ab"
      },
      "source": [
        "### 4G\n",
        "Some recordings of Amount appear to have been made in ounces rather than in milliliters. All of them should be in milliliters. Convert those in ounces to milliliters (1 oz. = 29.57 ml).\n",
        "\n",
        "Start by subsetting the data to only those observations containing oz, then apply the conversion to the *Amount_Eat* column and replace the values in the *Unit* column with ml.\n"
      ]
    },
    {
      "cell_type": "code",
      "execution_count": 24,
      "id": "ea4c664c",
      "metadata": {
        "colab": {
          "base_uri": "https://localhost:8080/",
          "height": 350
        },
        "id": "ea4c664c",
        "outputId": "1d8f35ec-1c20-4ad5-bfef-c2fcd0322035"
      },
      "outputs": [
        {
          "data": {
            "text/html": [
              "\n",
              "  <div id=\"df-5e2e5e3f-59d6-4e33-8afb-8ea8efad3892\">\n",
              "    <div class=\"colab-df-container\">\n",
              "      <div>\n",
              "<style scoped>\n",
              "    .dataframe tbody tr th:only-of-type {\n",
              "        vertical-align: middle;\n",
              "    }\n",
              "\n",
              "    .dataframe tbody tr th {\n",
              "        vertical-align: top;\n",
              "    }\n",
              "\n",
              "    .dataframe thead th {\n",
              "        text-align: right;\n",
              "    }\n",
              "</style>\n",
              "<table border=\"1\" class=\"dataframe\">\n",
              "  <thead>\n",
              "    <tr style=\"text-align: right;\">\n",
              "      <th></th>\n",
              "      <th>VisitID</th>\n",
              "      <th>BirdType</th>\n",
              "      <th>BirdSize</th>\n",
              "      <th>Gender</th>\n",
              "      <th>VisitDate</th>\n",
              "      <th>Location</th>\n",
              "      <th>Hoverfeed</th>\n",
              "      <th>Unnamed: 10</th>\n",
              "      <th>birdfirstname</th>\n",
              "      <th>birdlastname</th>\n",
              "      <th>Amount_Eat</th>\n",
              "      <th>Unit</th>\n",
              "      <th>StartTime</th>\n",
              "      <th>EndTime</th>\n",
              "    </tr>\n",
              "  </thead>\n",
              "  <tbody>\n",
              "    <tr>\n",
              "      <th>33</th>\n",
              "      <td>2236</td>\n",
              "      <td>Anna's</td>\n",
              "      <td>S</td>\n",
              "      <td>female</td>\n",
              "      <td>7/17/17</td>\n",
              "      <td>Back Patio</td>\n",
              "      <td>no</td>\n",
              "      <td>NaN</td>\n",
              "      <td>Petunia</td>\n",
              "      <td>O'Flaherty</td>\n",
              "      <td>0.00000</td>\n",
              "      <td>ml</td>\n",
              "      <td>1900-01-01 17:01:37.830</td>\n",
              "      <td>1900-01-01 17:02:00.030</td>\n",
              "    </tr>\n",
              "    <tr>\n",
              "      <th>36</th>\n",
              "      <td>2239</td>\n",
              "      <td>NaN</td>\n",
              "      <td>M</td>\n",
              "      <td>female</td>\n",
              "      <td>7/18/17</td>\n",
              "      <td>Deck 1</td>\n",
              "      <td>yes</td>\n",
              "      <td>NaN</td>\n",
              "      <td>Francine</td>\n",
              "      <td>Johnson</td>\n",
              "      <td>7.92476</td>\n",
              "      <td>ml</td>\n",
              "      <td>1900-01-01 09:02:56.800</td>\n",
              "      <td>1900-01-01 09:03:28.740</td>\n",
              "    </tr>\n",
              "    <tr>\n",
              "      <th>39</th>\n",
              "      <td>2242</td>\n",
              "      <td>Rufous</td>\n",
              "      <td>M</td>\n",
              "      <td>male</td>\n",
              "      <td>7/18/17</td>\n",
              "      <td>Deck 2</td>\n",
              "      <td>yes</td>\n",
              "      <td>NaN</td>\n",
              "      <td>Lucky</td>\n",
              "      <td>Kim</td>\n",
              "      <td>0.14785</td>\n",
              "      <td>ml</td>\n",
              "      <td>1900-01-01 12:02:30.950</td>\n",
              "      <td>1900-01-01 12:03:00.410</td>\n",
              "    </tr>\n",
              "    <tr>\n",
              "      <th>99</th>\n",
              "      <td>2302</td>\n",
              "      <td>Rufous</td>\n",
              "      <td>L</td>\n",
              "      <td>female</td>\n",
              "      <td>7/21/17</td>\n",
              "      <td>Back Patio</td>\n",
              "      <td>yes</td>\n",
              "      <td>NaN</td>\n",
              "      <td>Rose</td>\n",
              "      <td>Kim</td>\n",
              "      <td>12.47854</td>\n",
              "      <td>ml</td>\n",
              "      <td>1900-01-01 12:54:14.400</td>\n",
              "      <td>1900-01-01 12:54:35.650</td>\n",
              "    </tr>\n",
              "    <tr>\n",
              "      <th>105</th>\n",
              "      <td>2308</td>\n",
              "      <td>Anna's</td>\n",
              "      <td>L</td>\n",
              "      <td>male</td>\n",
              "      <td>7/21/17</td>\n",
              "      <td>NE Corner</td>\n",
              "      <td>no</td>\n",
              "      <td>NaN</td>\n",
              "      <td>King</td>\n",
              "      <td>Schwalbe</td>\n",
              "      <td>6.38712</td>\n",
              "      <td>ml</td>\n",
              "      <td>1900-01-01 19:12:52.240</td>\n",
              "      <td>1900-01-01 19:13:18.720</td>\n",
              "    </tr>\n",
              "  </tbody>\n",
              "</table>\n",
              "</div>\n",
              "      <button class=\"colab-df-convert\" onclick=\"convertToInteractive('df-5e2e5e3f-59d6-4e33-8afb-8ea8efad3892')\"\n",
              "              title=\"Convert this dataframe to an interactive table.\"\n",
              "              style=\"display:none;\">\n",
              "        \n",
              "  <svg xmlns=\"http://www.w3.org/2000/svg\" height=\"24px\"viewBox=\"0 0 24 24\"\n",
              "       width=\"24px\">\n",
              "    <path d=\"M0 0h24v24H0V0z\" fill=\"none\"/>\n",
              "    <path d=\"M18.56 5.44l.94 2.06.94-2.06 2.06-.94-2.06-.94-.94-2.06-.94 2.06-2.06.94zm-11 1L8.5 8.5l.94-2.06 2.06-.94-2.06-.94L8.5 2.5l-.94 2.06-2.06.94zm10 10l.94 2.06.94-2.06 2.06-.94-2.06-.94-.94-2.06-.94 2.06-2.06.94z\"/><path d=\"M17.41 7.96l-1.37-1.37c-.4-.4-.92-.59-1.43-.59-.52 0-1.04.2-1.43.59L10.3 9.45l-7.72 7.72c-.78.78-.78 2.05 0 2.83L4 21.41c.39.39.9.59 1.41.59.51 0 1.02-.2 1.41-.59l7.78-7.78 2.81-2.81c.8-.78.8-2.07 0-2.86zM5.41 20L4 18.59l7.72-7.72 1.47 1.35L5.41 20z\"/>\n",
              "  </svg>\n",
              "      </button>\n",
              "      \n",
              "  <style>\n",
              "    .colab-df-container {\n",
              "      display:flex;\n",
              "      flex-wrap:wrap;\n",
              "      gap: 12px;\n",
              "    }\n",
              "\n",
              "    .colab-df-convert {\n",
              "      background-color: #E8F0FE;\n",
              "      border: none;\n",
              "      border-radius: 50%;\n",
              "      cursor: pointer;\n",
              "      display: none;\n",
              "      fill: #1967D2;\n",
              "      height: 32px;\n",
              "      padding: 0 0 0 0;\n",
              "      width: 32px;\n",
              "    }\n",
              "\n",
              "    .colab-df-convert:hover {\n",
              "      background-color: #E2EBFA;\n",
              "      box-shadow: 0px 1px 2px rgba(60, 64, 67, 0.3), 0px 1px 3px 1px rgba(60, 64, 67, 0.15);\n",
              "      fill: #174EA6;\n",
              "    }\n",
              "\n",
              "    [theme=dark] .colab-df-convert {\n",
              "      background-color: #3B4455;\n",
              "      fill: #D2E3FC;\n",
              "    }\n",
              "\n",
              "    [theme=dark] .colab-df-convert:hover {\n",
              "      background-color: #434B5C;\n",
              "      box-shadow: 0px 1px 3px 1px rgba(0, 0, 0, 0.15);\n",
              "      filter: drop-shadow(0px 1px 2px rgba(0, 0, 0, 0.3));\n",
              "      fill: #FFFFFF;\n",
              "    }\n",
              "  </style>\n",
              "\n",
              "      <script>\n",
              "        const buttonEl =\n",
              "          document.querySelector('#df-5e2e5e3f-59d6-4e33-8afb-8ea8efad3892 button.colab-df-convert');\n",
              "        buttonEl.style.display =\n",
              "          google.colab.kernel.accessAllowed ? 'block' : 'none';\n",
              "\n",
              "        async function convertToInteractive(key) {\n",
              "          const element = document.querySelector('#df-5e2e5e3f-59d6-4e33-8afb-8ea8efad3892');\n",
              "          const dataTable =\n",
              "            await google.colab.kernel.invokeFunction('convertToInteractive',\n",
              "                                                     [key], {});\n",
              "          if (!dataTable) return;\n",
              "\n",
              "          const docLinkHtml = 'Like what you see? Visit the ' +\n",
              "            '<a target=\"_blank\" href=https://colab.research.google.com/notebooks/data_table.ipynb>data table notebook</a>'\n",
              "            + ' to learn more about interactive tables.';\n",
              "          element.innerHTML = '';\n",
              "          dataTable['output_type'] = 'display_data';\n",
              "          await google.colab.output.renderOutput(dataTable, element);\n",
              "          const docLink = document.createElement('div');\n",
              "          docLink.innerHTML = docLinkHtml;\n",
              "          element.appendChild(docLink);\n",
              "        }\n",
              "      </script>\n",
              "    </div>\n",
              "  </div>\n",
              "  "
            ],
            "text/plain": [
              "     VisitID BirdType BirdSize  Gender VisitDate    Location Hoverfeed  \\\n",
              "33      2236   Anna's        S  female   7/17/17  Back Patio        no   \n",
              "36      2239      NaN        M  female   7/18/17      Deck 1       yes   \n",
              "39      2242   Rufous        M    male   7/18/17      Deck 2       yes   \n",
              "99      2302   Rufous        L  female   7/21/17  Back Patio       yes   \n",
              "105     2308   Anna's        L    male   7/21/17   NE Corner        no   \n",
              "\n",
              "    Unnamed: 10 birdfirstname birdlastname  Amount_Eat Unit  \\\n",
              "33          NaN       Petunia   O'Flaherty     0.00000   ml   \n",
              "36          NaN      Francine      Johnson     7.92476   ml   \n",
              "39          NaN         Lucky          Kim     0.14785   ml   \n",
              "99          NaN          Rose          Kim    12.47854   ml   \n",
              "105         NaN          King     Schwalbe     6.38712   ml   \n",
              "\n",
              "                  StartTime                 EndTime  \n",
              "33  1900-01-01 17:01:37.830 1900-01-01 17:02:00.030  \n",
              "36  1900-01-01 09:02:56.800 1900-01-01 09:03:28.740  \n",
              "39  1900-01-01 12:02:30.950 1900-01-01 12:03:00.410  \n",
              "99  1900-01-01 12:54:14.400 1900-01-01 12:54:35.650  \n",
              "105 1900-01-01 19:12:52.240 1900-01-01 19:13:18.720  "
            ]
          },
          "execution_count": 24,
          "metadata": {},
          "output_type": "execute_result"
        }
      ],
      "source": [
        "df_oz = df[df['Unit'] == 'oz'] #subset dataset to only contain oz\n",
        "df_oz['Amount_Eat'] = 29.57*df['Amount_Eat'] #apply conversion formula\n",
        "df_oz['Unit'] = df_oz['Unit'].replace('oz', 'ml') #replace oz with ml\n",
        "df_oz.head()"
      ]
    },
    {
      "cell_type": "markdown",
      "id": "NncjHj__LVFW",
      "metadata": {
        "id": "NncjHj__LVFW"
      },
      "source": [
        "###**4H** \n",
        "\n",
        "**Next, you'll combine your original dataframe with the new subset dataframe using the concat() method. Finally, drop rows containing 'oz' in the *Unit* column.**\n",
        "\n",
        "**Make sure you have the correct number of observations still by using the len() method.**"
      ]
    },
    {
      "cell_type": "code",
      "execution_count": 25,
      "id": "4a29b798",
      "metadata": {
        "colab": {
          "base_uri": "https://localhost:8080/"
        },
        "id": "4a29b798",
        "outputId": "6fe61bc4-4094-48ea-b840-2862b1f2c7de"
      },
      "outputs": [
        {
          "data": {
            "text/plain": [
              "232"
            ]
          },
          "execution_count": 25,
          "metadata": {},
          "output_type": "execute_result"
        }
      ],
      "source": [
        "frames = [df, df_oz] \n",
        "df = pd.concat(frames) #combine the original df with your new subsetted df\n",
        "df = df[df.Unit != 'oz'] #remove rows containing oz\n",
        "\n",
        "\n",
        "#length of dataframe\n",
        "len(df)"
      ]
    },
    {
      "cell_type": "markdown",
      "id": "f65ee35f",
      "metadata": {
        "id": "f65ee35f"
      },
      "source": [
        "### 4I\n",
        "\n",
        "Createa new column, called “IsFemale”. This column should include a 1 if the hummingbird that made the visit is female, or 0 if the hummingbird is male."
      ]
    },
    {
      "cell_type": "code",
      "execution_count": 37,
      "id": "83340013",
      "metadata": {
        "id": "83340013"
      },
      "outputs": [],
      "source": [
        "#create new column called IsFemale using the np.where method\n",
        "df['IsFemale'] = np.where(df['Gender'] == 'female',1,0)"
      ]
    },
    {
      "cell_type": "markdown",
      "id": "22ee397a",
      "metadata": {
        "id": "22ee397a"
      },
      "source": [
        "### 4J\n",
        "Create a new column called Duration, which includes the duration of the visit in seconds. Creat this column from the *StartTime* and *EndTime* columns then convert to seconds using dt.total_seconds()."
      ]
    },
    {
      "cell_type": "code",
      "execution_count": 28,
      "id": "bee392ca",
      "metadata": {
        "id": "bee392ca"
      },
      "outputs": [],
      "source": [
        "df['Duration'] = df['EndTime'] - df['StartTime'] #create new 'Duration' column by subtracting StartTime from EndTime"
      ]
    },
    {
      "cell_type": "code",
      "execution_count": 39,
      "id": "68247fac",
      "metadata": {
        "colab": {
          "base_uri": "https://localhost:8080/",
          "height": 204
        },
        "id": "68247fac",
        "outputId": "6649ed2d-fca6-4a46-f99c-e73b6aca4afe"
      },
      "outputs": [
        {
          "data": {
            "text/html": [
              "\n",
              "  <div id=\"df-f494094d-4849-435c-8a19-6be379530cd5\">\n",
              "    <div class=\"colab-df-container\">\n",
              "      <div>\n",
              "<style scoped>\n",
              "    .dataframe tbody tr th:only-of-type {\n",
              "        vertical-align: middle;\n",
              "    }\n",
              "\n",
              "    .dataframe tbody tr th {\n",
              "        vertical-align: top;\n",
              "    }\n",
              "\n",
              "    .dataframe thead th {\n",
              "        text-align: right;\n",
              "    }\n",
              "</style>\n",
              "<table border=\"1\" class=\"dataframe\">\n",
              "  <thead>\n",
              "    <tr style=\"text-align: right;\">\n",
              "      <th></th>\n",
              "      <th>VisitID</th>\n",
              "      <th>BirdType</th>\n",
              "      <th>BirdSize</th>\n",
              "      <th>Gender</th>\n",
              "      <th>VisitDate</th>\n",
              "      <th>Location</th>\n",
              "      <th>Hoverfeed</th>\n",
              "      <th>Unnamed: 10</th>\n",
              "      <th>birdfirstname</th>\n",
              "      <th>birdlastname</th>\n",
              "      <th>Amount_Eat</th>\n",
              "      <th>Unit</th>\n",
              "      <th>IsFemale</th>\n",
              "      <th>Duration</th>\n",
              "    </tr>\n",
              "  </thead>\n",
              "  <tbody>\n",
              "    <tr>\n",
              "      <th>0</th>\n",
              "      <td>2203</td>\n",
              "      <td>Rufous</td>\n",
              "      <td>M</td>\n",
              "      <td>female</td>\n",
              "      <td>7/16/17</td>\n",
              "      <td>Back Patio</td>\n",
              "      <td>no</td>\n",
              "      <td>NaN</td>\n",
              "      <td>Mitz</td>\n",
              "      <td>Johnson</td>\n",
              "      <td>17.0</td>\n",
              "      <td>ml</td>\n",
              "      <td>1</td>\n",
              "      <td>28.73</td>\n",
              "    </tr>\n",
              "    <tr>\n",
              "      <th>1</th>\n",
              "      <td>2204</td>\n",
              "      <td>Calliope</td>\n",
              "      <td>M</td>\n",
              "      <td>male</td>\n",
              "      <td>7/16/17</td>\n",
              "      <td>NE Corner</td>\n",
              "      <td>yes</td>\n",
              "      <td>0.31</td>\n",
              "      <td>Horace</td>\n",
              "      <td>Prefect</td>\n",
              "      <td>6.0</td>\n",
              "      <td>ml</td>\n",
              "      <td>0</td>\n",
              "      <td>10.32</td>\n",
              "    </tr>\n",
              "    <tr>\n",
              "      <th>2</th>\n",
              "      <td>2205</td>\n",
              "      <td>Rufous</td>\n",
              "      <td>M</td>\n",
              "      <td>female</td>\n",
              "      <td>7/16/17</td>\n",
              "      <td>Deck 2</td>\n",
              "      <td>no</td>\n",
              "      <td>NaN</td>\n",
              "      <td>Edeltraud</td>\n",
              "      <td>McKnight</td>\n",
              "      <td>5.0</td>\n",
              "      <td>ml</td>\n",
              "      <td>1</td>\n",
              "      <td>30.64</td>\n",
              "    </tr>\n",
              "    <tr>\n",
              "      <th>3</th>\n",
              "      <td>2206</td>\n",
              "      <td>Rufous</td>\n",
              "      <td>M</td>\n",
              "      <td>male</td>\n",
              "      <td>7/16/17</td>\n",
              "      <td>Deck 1</td>\n",
              "      <td>yes</td>\n",
              "      <td>NaN</td>\n",
              "      <td>Herbert</td>\n",
              "      <td>McKnight</td>\n",
              "      <td>2.0</td>\n",
              "      <td>ml</td>\n",
              "      <td>0</td>\n",
              "      <td>13.41</td>\n",
              "    </tr>\n",
              "    <tr>\n",
              "      <th>4</th>\n",
              "      <td>2207</td>\n",
              "      <td>Anna's</td>\n",
              "      <td>M</td>\n",
              "      <td>female</td>\n",
              "      <td>7/16/17</td>\n",
              "      <td>Garage</td>\n",
              "      <td>yes</td>\n",
              "      <td>NaN</td>\n",
              "      <td>Walpurga</td>\n",
              "      <td>Schwalbe</td>\n",
              "      <td>3.0</td>\n",
              "      <td>ml</td>\n",
              "      <td>1</td>\n",
              "      <td>14.08</td>\n",
              "    </tr>\n",
              "  </tbody>\n",
              "</table>\n",
              "</div>\n",
              "      <button class=\"colab-df-convert\" onclick=\"convertToInteractive('df-f494094d-4849-435c-8a19-6be379530cd5')\"\n",
              "              title=\"Convert this dataframe to an interactive table.\"\n",
              "              style=\"display:none;\">\n",
              "        \n",
              "  <svg xmlns=\"http://www.w3.org/2000/svg\" height=\"24px\"viewBox=\"0 0 24 24\"\n",
              "       width=\"24px\">\n",
              "    <path d=\"M0 0h24v24H0V0z\" fill=\"none\"/>\n",
              "    <path d=\"M18.56 5.44l.94 2.06.94-2.06 2.06-.94-2.06-.94-.94-2.06-.94 2.06-2.06.94zm-11 1L8.5 8.5l.94-2.06 2.06-.94-2.06-.94L8.5 2.5l-.94 2.06-2.06.94zm10 10l.94 2.06.94-2.06 2.06-.94-2.06-.94-.94-2.06-.94 2.06-2.06.94z\"/><path d=\"M17.41 7.96l-1.37-1.37c-.4-.4-.92-.59-1.43-.59-.52 0-1.04.2-1.43.59L10.3 9.45l-7.72 7.72c-.78.78-.78 2.05 0 2.83L4 21.41c.39.39.9.59 1.41.59.51 0 1.02-.2 1.41-.59l7.78-7.78 2.81-2.81c.8-.78.8-2.07 0-2.86zM5.41 20L4 18.59l7.72-7.72 1.47 1.35L5.41 20z\"/>\n",
              "  </svg>\n",
              "      </button>\n",
              "      \n",
              "  <style>\n",
              "    .colab-df-container {\n",
              "      display:flex;\n",
              "      flex-wrap:wrap;\n",
              "      gap: 12px;\n",
              "    }\n",
              "\n",
              "    .colab-df-convert {\n",
              "      background-color: #E8F0FE;\n",
              "      border: none;\n",
              "      border-radius: 50%;\n",
              "      cursor: pointer;\n",
              "      display: none;\n",
              "      fill: #1967D2;\n",
              "      height: 32px;\n",
              "      padding: 0 0 0 0;\n",
              "      width: 32px;\n",
              "    }\n",
              "\n",
              "    .colab-df-convert:hover {\n",
              "      background-color: #E2EBFA;\n",
              "      box-shadow: 0px 1px 2px rgba(60, 64, 67, 0.3), 0px 1px 3px 1px rgba(60, 64, 67, 0.15);\n",
              "      fill: #174EA6;\n",
              "    }\n",
              "\n",
              "    [theme=dark] .colab-df-convert {\n",
              "      background-color: #3B4455;\n",
              "      fill: #D2E3FC;\n",
              "    }\n",
              "\n",
              "    [theme=dark] .colab-df-convert:hover {\n",
              "      background-color: #434B5C;\n",
              "      box-shadow: 0px 1px 3px 1px rgba(0, 0, 0, 0.15);\n",
              "      filter: drop-shadow(0px 1px 2px rgba(0, 0, 0, 0.3));\n",
              "      fill: #FFFFFF;\n",
              "    }\n",
              "  </style>\n",
              "\n",
              "      <script>\n",
              "        const buttonEl =\n",
              "          document.querySelector('#df-f494094d-4849-435c-8a19-6be379530cd5 button.colab-df-convert');\n",
              "        buttonEl.style.display =\n",
              "          google.colab.kernel.accessAllowed ? 'block' : 'none';\n",
              "\n",
              "        async function convertToInteractive(key) {\n",
              "          const element = document.querySelector('#df-f494094d-4849-435c-8a19-6be379530cd5');\n",
              "          const dataTable =\n",
              "            await google.colab.kernel.invokeFunction('convertToInteractive',\n",
              "                                                     [key], {});\n",
              "          if (!dataTable) return;\n",
              "\n",
              "          const docLinkHtml = 'Like what you see? Visit the ' +\n",
              "            '<a target=\"_blank\" href=https://colab.research.google.com/notebooks/data_table.ipynb>data table notebook</a>'\n",
              "            + ' to learn more about interactive tables.';\n",
              "          element.innerHTML = '';\n",
              "          dataTable['output_type'] = 'display_data';\n",
              "          await google.colab.output.renderOutput(dataTable, element);\n",
              "          const docLink = document.createElement('div');\n",
              "          docLink.innerHTML = docLinkHtml;\n",
              "          element.appendChild(docLink);\n",
              "        }\n",
              "      </script>\n",
              "    </div>\n",
              "  </div>\n",
              "  "
            ],
            "text/plain": [
              "   VisitID  BirdType BirdSize  Gender VisitDate    Location Hoverfeed  \\\n",
              "0     2203    Rufous        M  female   7/16/17  Back Patio        no   \n",
              "1     2204  Calliope        M    male   7/16/17   NE Corner       yes   \n",
              "2     2205    Rufous        M  female   7/16/17      Deck 2        no   \n",
              "3     2206    Rufous        M    male   7/16/17      Deck 1       yes   \n",
              "4     2207    Anna's        M  female   7/16/17      Garage       yes   \n",
              "\n",
              "  Unnamed: 10 birdfirstname birdlastname  Amount_Eat Unit  IsFemale  Duration  \n",
              "0         NaN          Mitz      Johnson        17.0   ml         1     28.73  \n",
              "1        0.31        Horace      Prefect         6.0   ml         0     10.32  \n",
              "2         NaN     Edeltraud     McKnight         5.0   ml         1     30.64  \n",
              "3         NaN       Herbert     McKnight         2.0   ml         0     13.41  \n",
              "4         NaN      Walpurga     Schwalbe         3.0   ml         1     14.08  "
            ]
          },
          "execution_count": 39,
          "metadata": {},
          "output_type": "execute_result"
        }
      ],
      "source": [
        "df['Duration'] = df['Duration'].dt.total_seconds() #convert 'Duration' to seconds\n",
        "df.head()"
      ]
    },
    {
      "cell_type": "code",
      "execution_count": 30,
      "id": "6e4cddfa",
      "metadata": {
        "id": "6e4cddfa",
        "scrolled": true
      },
      "outputs": [],
      "source": [
        "#drop the StartTime and EndTime columns\n",
        "df = df.drop(['StartTime', 'EndTime'], axis=1)"
      ]
    },
    {
      "cell_type": "markdown",
      "id": "499140a0",
      "metadata": {
        "id": "499140a0"
      },
      "source": [
        "### 4K\n",
        "\n",
        "View the full dataset, to spot check your cleaned data and address any remaining issues you notice."
      ]
    },
    {
      "cell_type": "code",
      "execution_count": null,
      "id": "7a9eeb1b",
      "metadata": {
        "id": "7a9eeb1b"
      },
      "outputs": [],
      "source": [
        "pd.set_option(\"display.max_rows\", None, \"display.max_columns\", None) #view full dataframe\n",
        "df"
      ]
    },
    {
      "cell_type": "code",
      "execution_count": 41,
      "id": "IDg63by0uWk1",
      "metadata": {
        "colab": {
          "base_uri": "https://localhost:8080/",
          "height": 204
        },
        "id": "IDg63by0uWk1",
        "outputId": "7fa89c0d-ee44-4c3c-b935-65140d2fdd80"
      },
      "outputs": [
        {
          "data": {
            "text/html": [
              "\n",
              "  <div id=\"df-6afa69da-19d7-4829-ba6b-10ba2a03f772\">\n",
              "    <div class=\"colab-df-container\">\n",
              "      <div>\n",
              "<style scoped>\n",
              "    .dataframe tbody tr th:only-of-type {\n",
              "        vertical-align: middle;\n",
              "    }\n",
              "\n",
              "    .dataframe tbody tr th {\n",
              "        vertical-align: top;\n",
              "    }\n",
              "\n",
              "    .dataframe thead th {\n",
              "        text-align: right;\n",
              "    }\n",
              "</style>\n",
              "<table border=\"1\" class=\"dataframe\">\n",
              "  <thead>\n",
              "    <tr style=\"text-align: right;\">\n",
              "      <th></th>\n",
              "      <th>VisitID</th>\n",
              "      <th>BirdType</th>\n",
              "      <th>BirdSize</th>\n",
              "      <th>Gender</th>\n",
              "      <th>VisitDate</th>\n",
              "      <th>Location</th>\n",
              "      <th>Hoverfeed</th>\n",
              "      <th>birdfirstname</th>\n",
              "      <th>birdlastname</th>\n",
              "      <th>Amount_Eat</th>\n",
              "      <th>Unit</th>\n",
              "      <th>IsFemale</th>\n",
              "      <th>Duration</th>\n",
              "    </tr>\n",
              "  </thead>\n",
              "  <tbody>\n",
              "    <tr>\n",
              "      <th>0</th>\n",
              "      <td>2203</td>\n",
              "      <td>Rufous</td>\n",
              "      <td>M</td>\n",
              "      <td>female</td>\n",
              "      <td>7/16/17</td>\n",
              "      <td>Back Patio</td>\n",
              "      <td>no</td>\n",
              "      <td>Mitz</td>\n",
              "      <td>Johnson</td>\n",
              "      <td>17.0</td>\n",
              "      <td>ml</td>\n",
              "      <td>1</td>\n",
              "      <td>28.73</td>\n",
              "    </tr>\n",
              "    <tr>\n",
              "      <th>1</th>\n",
              "      <td>2204</td>\n",
              "      <td>Calliope</td>\n",
              "      <td>M</td>\n",
              "      <td>male</td>\n",
              "      <td>7/16/17</td>\n",
              "      <td>NE Corner</td>\n",
              "      <td>yes</td>\n",
              "      <td>Horace</td>\n",
              "      <td>Prefect</td>\n",
              "      <td>6.0</td>\n",
              "      <td>ml</td>\n",
              "      <td>0</td>\n",
              "      <td>10.32</td>\n",
              "    </tr>\n",
              "    <tr>\n",
              "      <th>2</th>\n",
              "      <td>2205</td>\n",
              "      <td>Rufous</td>\n",
              "      <td>M</td>\n",
              "      <td>female</td>\n",
              "      <td>7/16/17</td>\n",
              "      <td>Deck 2</td>\n",
              "      <td>no</td>\n",
              "      <td>Edeltraud</td>\n",
              "      <td>McKnight</td>\n",
              "      <td>5.0</td>\n",
              "      <td>ml</td>\n",
              "      <td>1</td>\n",
              "      <td>30.64</td>\n",
              "    </tr>\n",
              "    <tr>\n",
              "      <th>3</th>\n",
              "      <td>2206</td>\n",
              "      <td>Rufous</td>\n",
              "      <td>M</td>\n",
              "      <td>male</td>\n",
              "      <td>7/16/17</td>\n",
              "      <td>Deck 1</td>\n",
              "      <td>yes</td>\n",
              "      <td>Herbert</td>\n",
              "      <td>McKnight</td>\n",
              "      <td>2.0</td>\n",
              "      <td>ml</td>\n",
              "      <td>0</td>\n",
              "      <td>13.41</td>\n",
              "    </tr>\n",
              "    <tr>\n",
              "      <th>4</th>\n",
              "      <td>2207</td>\n",
              "      <td>Anna's</td>\n",
              "      <td>M</td>\n",
              "      <td>female</td>\n",
              "      <td>7/16/17</td>\n",
              "      <td>Garage</td>\n",
              "      <td>yes</td>\n",
              "      <td>Walpurga</td>\n",
              "      <td>Schwalbe</td>\n",
              "      <td>3.0</td>\n",
              "      <td>ml</td>\n",
              "      <td>1</td>\n",
              "      <td>14.08</td>\n",
              "    </tr>\n",
              "  </tbody>\n",
              "</table>\n",
              "</div>\n",
              "      <button class=\"colab-df-convert\" onclick=\"convertToInteractive('df-6afa69da-19d7-4829-ba6b-10ba2a03f772')\"\n",
              "              title=\"Convert this dataframe to an interactive table.\"\n",
              "              style=\"display:none;\">\n",
              "        \n",
              "  <svg xmlns=\"http://www.w3.org/2000/svg\" height=\"24px\"viewBox=\"0 0 24 24\"\n",
              "       width=\"24px\">\n",
              "    <path d=\"M0 0h24v24H0V0z\" fill=\"none\"/>\n",
              "    <path d=\"M18.56 5.44l.94 2.06.94-2.06 2.06-.94-2.06-.94-.94-2.06-.94 2.06-2.06.94zm-11 1L8.5 8.5l.94-2.06 2.06-.94-2.06-.94L8.5 2.5l-.94 2.06-2.06.94zm10 10l.94 2.06.94-2.06 2.06-.94-2.06-.94-.94-2.06-.94 2.06-2.06.94z\"/><path d=\"M17.41 7.96l-1.37-1.37c-.4-.4-.92-.59-1.43-.59-.52 0-1.04.2-1.43.59L10.3 9.45l-7.72 7.72c-.78.78-.78 2.05 0 2.83L4 21.41c.39.39.9.59 1.41.59.51 0 1.02-.2 1.41-.59l7.78-7.78 2.81-2.81c.8-.78.8-2.07 0-2.86zM5.41 20L4 18.59l7.72-7.72 1.47 1.35L5.41 20z\"/>\n",
              "  </svg>\n",
              "      </button>\n",
              "      \n",
              "  <style>\n",
              "    .colab-df-container {\n",
              "      display:flex;\n",
              "      flex-wrap:wrap;\n",
              "      gap: 12px;\n",
              "    }\n",
              "\n",
              "    .colab-df-convert {\n",
              "      background-color: #E8F0FE;\n",
              "      border: none;\n",
              "      border-radius: 50%;\n",
              "      cursor: pointer;\n",
              "      display: none;\n",
              "      fill: #1967D2;\n",
              "      height: 32px;\n",
              "      padding: 0 0 0 0;\n",
              "      width: 32px;\n",
              "    }\n",
              "\n",
              "    .colab-df-convert:hover {\n",
              "      background-color: #E2EBFA;\n",
              "      box-shadow: 0px 1px 2px rgba(60, 64, 67, 0.3), 0px 1px 3px 1px rgba(60, 64, 67, 0.15);\n",
              "      fill: #174EA6;\n",
              "    }\n",
              "\n",
              "    [theme=dark] .colab-df-convert {\n",
              "      background-color: #3B4455;\n",
              "      fill: #D2E3FC;\n",
              "    }\n",
              "\n",
              "    [theme=dark] .colab-df-convert:hover {\n",
              "      background-color: #434B5C;\n",
              "      box-shadow: 0px 1px 3px 1px rgba(0, 0, 0, 0.15);\n",
              "      filter: drop-shadow(0px 1px 2px rgba(0, 0, 0, 0.3));\n",
              "      fill: #FFFFFF;\n",
              "    }\n",
              "  </style>\n",
              "\n",
              "      <script>\n",
              "        const buttonEl =\n",
              "          document.querySelector('#df-6afa69da-19d7-4829-ba6b-10ba2a03f772 button.colab-df-convert');\n",
              "        buttonEl.style.display =\n",
              "          google.colab.kernel.accessAllowed ? 'block' : 'none';\n",
              "\n",
              "        async function convertToInteractive(key) {\n",
              "          const element = document.querySelector('#df-6afa69da-19d7-4829-ba6b-10ba2a03f772');\n",
              "          const dataTable =\n",
              "            await google.colab.kernel.invokeFunction('convertToInteractive',\n",
              "                                                     [key], {});\n",
              "          if (!dataTable) return;\n",
              "\n",
              "          const docLinkHtml = 'Like what you see? Visit the ' +\n",
              "            '<a target=\"_blank\" href=https://colab.research.google.com/notebooks/data_table.ipynb>data table notebook</a>'\n",
              "            + ' to learn more about interactive tables.';\n",
              "          element.innerHTML = '';\n",
              "          dataTable['output_type'] = 'display_data';\n",
              "          await google.colab.output.renderOutput(dataTable, element);\n",
              "          const docLink = document.createElement('div');\n",
              "          docLink.innerHTML = docLinkHtml;\n",
              "          element.appendChild(docLink);\n",
              "        }\n",
              "      </script>\n",
              "    </div>\n",
              "  </div>\n",
              "  "
            ],
            "text/plain": [
              "   VisitID  BirdType BirdSize  Gender VisitDate    Location Hoverfeed  \\\n",
              "0     2203    Rufous        M  female   7/16/17  Back Patio        no   \n",
              "1     2204  Calliope        M    male   7/16/17   NE Corner       yes   \n",
              "2     2205    Rufous        M  female   7/16/17      Deck 2        no   \n",
              "3     2206    Rufous        M    male   7/16/17      Deck 1       yes   \n",
              "4     2207    Anna's        M  female   7/16/17      Garage       yes   \n",
              "\n",
              "  birdfirstname birdlastname  Amount_Eat Unit  IsFemale  Duration  \n",
              "0          Mitz      Johnson        17.0   ml         1     28.73  \n",
              "1        Horace      Prefect         6.0   ml         0     10.32  \n",
              "2     Edeltraud     McKnight         5.0   ml         1     30.64  \n",
              "3       Herbert     McKnight         2.0   ml         0     13.41  \n",
              "4      Walpurga     Schwalbe         3.0   ml         1     14.08  "
            ]
          },
          "execution_count": 41,
          "metadata": {},
          "output_type": "execute_result"
        }
      ],
      "source": [
        "#remove any remaining unwanted columns\n",
        "df = df.drop(['Unnamed: 10'], axis=1)\n",
        "df.head()"
      ]
    },
    {
      "cell_type": "markdown",
      "id": "9d081d03",
      "metadata": {
        "id": "9d081d03"
      },
      "source": [
        "## Q5 \n",
        "\n",
        "When you’re finished cleaning the datafile, sort the file by Visit ID (low to high), then save the cleaned file as an Excel document for submission via Canvas."
      ]
    },
    {
      "cell_type": "code",
      "execution_count": 42,
      "id": "1ebe2359",
      "metadata": {
        "id": "1ebe2359"
      },
      "outputs": [],
      "source": [
        "#set index to VisitID\n",
        "df = df.set_index('VisitID')\n",
        "\n",
        "#sort the index low to high\n",
        "df = df.sort_index() #sorts in descending order\n",
        "df = df.sort_index(ascending = True)"
      ]
    },
    {
      "cell_type": "code",
      "execution_count": 45,
      "id": "3a2a7f92",
      "metadata": {
        "colab": {
          "base_uri": "https://localhost:8080/",
          "height": 17
        },
        "id": "3a2a7f92",
        "outputId": "133e1026-b718-4ee8-817e-f705403cc606"
      },
      "outputs": [
        {
          "data": {
            "application/javascript": "\n    async function download(id, filename, size) {\n      if (!google.colab.kernel.accessAllowed) {\n        return;\n      }\n      const div = document.createElement('div');\n      const label = document.createElement('label');\n      label.textContent = `Downloading \"${filename}\": `;\n      div.appendChild(label);\n      const progress = document.createElement('progress');\n      progress.max = size;\n      div.appendChild(progress);\n      document.body.appendChild(div);\n\n      const buffers = [];\n      let downloaded = 0;\n\n      const channel = await google.colab.kernel.comms.open(id);\n      // Send a message to notify the kernel that we're ready.\n      channel.send({})\n\n      for await (const message of channel.messages) {\n        // Send a message to notify the kernel that we're ready.\n        channel.send({})\n        if (message.buffers) {\n          for (const buffer of message.buffers) {\n            buffers.push(buffer);\n            downloaded += buffer.byteLength;\n            progress.value = downloaded;\n          }\n        }\n      }\n      const blob = new Blob(buffers, {type: 'application/binary'});\n      const a = document.createElement('a');\n      a.href = window.URL.createObjectURL(blob);\n      a.download = filename;\n      div.appendChild(a);\n      a.click();\n      div.remove();\n    }\n  ",
            "text/plain": [
              "<IPython.core.display.Javascript object>"
            ]
          },
          "metadata": {},
          "output_type": "display_data"
        },
        {
          "data": {
            "application/javascript": "download(\"download_939037cc-593b-44a3-af23-08f0ae992fad\", \"cleaned_data_HB.xlsx\", 18655)",
            "text/plain": [
              "<IPython.core.display.Javascript object>"
            ]
          },
          "metadata": {},
          "output_type": "display_data"
        }
      ],
      "source": [
        "#export your cleaned Excel file for submission, along with your notebook\n",
        "#For Google Colab\n",
        "from google.colab import files \n",
        "df.to_excel(\"cleaned_data_HB.xlsx\")\n",
        "files.download(\"cleaned_data_HB.xlsx\")"
      ]
    },
    {
      "cell_type": "code",
      "execution_count": null,
      "id": "I7nTdMx0wNuv",
      "metadata": {
        "id": "I7nTdMx0wNuv"
      },
      "outputs": [],
      "source": []
    }
  ],
  "metadata": {
    "colab": {
      "collapsed_sections": [],
      "provenance": []
    },
    "kernelspec": {
      "display_name": "Python 3 (ipykernel)",
      "language": "python",
      "name": "python3"
    },
    "language_info": {
      "codemirror_mode": {
        "name": "ipython",
        "version": 3
      },
      "file_extension": ".py",
      "mimetype": "text/x-python",
      "name": "python",
      "nbconvert_exporter": "python",
      "pygments_lexer": "ipython3",
      "version": "3.9.7"
    }
  },
  "nbformat": 4,
  "nbformat_minor": 5
}
